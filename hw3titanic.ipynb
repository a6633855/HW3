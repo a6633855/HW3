{
 "cells": [
  {
   "cell_type": "code",
   "execution_count": 1,
   "id": "618faf9c",
   "metadata": {
    "_cell_guid": "b1076dfc-b9ad-4769-8c92-a6c4dae69d19",
    "_uuid": "8f2839f25d086af736a60e9eeb907d3b93b6e0e5",
    "execution": {
     "iopub.execute_input": "2022-12-12T13:03:12.950853Z",
     "iopub.status.busy": "2022-12-12T13:03:12.950282Z",
     "iopub.status.idle": "2022-12-12T13:03:14.363904Z",
     "shell.execute_reply": "2022-12-12T13:03:14.362571Z"
    },
    "papermill": {
     "duration": 1.43181,
     "end_time": "2022-12-12T13:03:14.367127",
     "exception": false,
     "start_time": "2022-12-12T13:03:12.935317",
     "status": "completed"
    },
    "tags": []
   },
   "outputs": [],
   "source": [
    "import numpy as np\n",
    "import pandas as pd\n",
    "import matplotlib\n",
    "import seaborn as sns\n",
    "from sklearn.model_selection import train_test_split, RandomizedSearchCV\n",
    "from sklearn.preprocessing import StandardScaler, LabelEncoder, RobustScaler\n",
    "from sklearn.pipeline import Pipeline, make_pipeline\n",
    "from sklearn.ensemble import GradientBoostingRegressor\n"
   ]
  },
  {
   "cell_type": "code",
   "execution_count": 2,
   "id": "3ae8459f",
   "metadata": {
    "execution": {
     "iopub.execute_input": "2022-12-12T13:03:14.393466Z",
     "iopub.status.busy": "2022-12-12T13:03:14.393062Z",
     "iopub.status.idle": "2022-12-12T13:03:14.426779Z",
     "shell.execute_reply": "2022-12-12T13:03:14.425440Z"
    },
    "papermill": {
     "duration": 0.050913,
     "end_time": "2022-12-12T13:03:14.429486",
     "exception": false,
     "start_time": "2022-12-12T13:03:14.378573",
     "status": "completed"
    },
    "tags": []
   },
   "outputs": [],
   "source": [
    "train_df = pd.read_csv('../input/titanic/train.csv')\n",
    "test_df = pd.read_csv('../input/titanic/test.csv')"
   ]
  },
  {
   "cell_type": "code",
   "execution_count": 3,
   "id": "ac3fc584",
   "metadata": {
    "execution": {
     "iopub.execute_input": "2022-12-12T13:03:14.455866Z",
     "iopub.status.busy": "2022-12-12T13:03:14.454330Z",
     "iopub.status.idle": "2022-12-12T13:03:14.481543Z",
     "shell.execute_reply": "2022-12-12T13:03:14.480012Z"
    },
    "papermill": {
     "duration": 0.042748,
     "end_time": "2022-12-12T13:03:14.484489",
     "exception": false,
     "start_time": "2022-12-12T13:03:14.441741",
     "status": "completed"
    },
    "tags": []
   },
   "outputs": [
    {
     "data": {
      "text/html": [
       "<div>\n",
       "<style scoped>\n",
       "    .dataframe tbody tr th:only-of-type {\n",
       "        vertical-align: middle;\n",
       "    }\n",
       "\n",
       "    .dataframe tbody tr th {\n",
       "        vertical-align: top;\n",
       "    }\n",
       "\n",
       "    .dataframe thead th {\n",
       "        text-align: right;\n",
       "    }\n",
       "</style>\n",
       "<table border=\"1\" class=\"dataframe\">\n",
       "  <thead>\n",
       "    <tr style=\"text-align: right;\">\n",
       "      <th></th>\n",
       "      <th>PassengerId</th>\n",
       "      <th>Pclass</th>\n",
       "      <th>Name</th>\n",
       "      <th>Sex</th>\n",
       "      <th>Age</th>\n",
       "      <th>SibSp</th>\n",
       "      <th>Parch</th>\n",
       "      <th>Ticket</th>\n",
       "      <th>Fare</th>\n",
       "      <th>Cabin</th>\n",
       "      <th>Embarked</th>\n",
       "    </tr>\n",
       "  </thead>\n",
       "  <tbody>\n",
       "    <tr>\n",
       "      <th>0</th>\n",
       "      <td>892</td>\n",
       "      <td>3</td>\n",
       "      <td>Kelly, Mr. James</td>\n",
       "      <td>male</td>\n",
       "      <td>34.5</td>\n",
       "      <td>0</td>\n",
       "      <td>0</td>\n",
       "      <td>330911</td>\n",
       "      <td>7.8292</td>\n",
       "      <td>NaN</td>\n",
       "      <td>Q</td>\n",
       "    </tr>\n",
       "    <tr>\n",
       "      <th>1</th>\n",
       "      <td>893</td>\n",
       "      <td>3</td>\n",
       "      <td>Wilkes, Mrs. James (Ellen Needs)</td>\n",
       "      <td>female</td>\n",
       "      <td>47.0</td>\n",
       "      <td>1</td>\n",
       "      <td>0</td>\n",
       "      <td>363272</td>\n",
       "      <td>7.0000</td>\n",
       "      <td>NaN</td>\n",
       "      <td>S</td>\n",
       "    </tr>\n",
       "    <tr>\n",
       "      <th>2</th>\n",
       "      <td>894</td>\n",
       "      <td>2</td>\n",
       "      <td>Myles, Mr. Thomas Francis</td>\n",
       "      <td>male</td>\n",
       "      <td>62.0</td>\n",
       "      <td>0</td>\n",
       "      <td>0</td>\n",
       "      <td>240276</td>\n",
       "      <td>9.6875</td>\n",
       "      <td>NaN</td>\n",
       "      <td>Q</td>\n",
       "    </tr>\n",
       "    <tr>\n",
       "      <th>3</th>\n",
       "      <td>895</td>\n",
       "      <td>3</td>\n",
       "      <td>Wirz, Mr. Albert</td>\n",
       "      <td>male</td>\n",
       "      <td>27.0</td>\n",
       "      <td>0</td>\n",
       "      <td>0</td>\n",
       "      <td>315154</td>\n",
       "      <td>8.6625</td>\n",
       "      <td>NaN</td>\n",
       "      <td>S</td>\n",
       "    </tr>\n",
       "    <tr>\n",
       "      <th>4</th>\n",
       "      <td>896</td>\n",
       "      <td>3</td>\n",
       "      <td>Hirvonen, Mrs. Alexander (Helga E Lindqvist)</td>\n",
       "      <td>female</td>\n",
       "      <td>22.0</td>\n",
       "      <td>1</td>\n",
       "      <td>1</td>\n",
       "      <td>3101298</td>\n",
       "      <td>12.2875</td>\n",
       "      <td>NaN</td>\n",
       "      <td>S</td>\n",
       "    </tr>\n",
       "  </tbody>\n",
       "</table>\n",
       "</div>"
      ],
      "text/plain": [
       "   PassengerId  Pclass                                          Name     Sex  \\\n",
       "0          892       3                              Kelly, Mr. James    male   \n",
       "1          893       3              Wilkes, Mrs. James (Ellen Needs)  female   \n",
       "2          894       2                     Myles, Mr. Thomas Francis    male   \n",
       "3          895       3                              Wirz, Mr. Albert    male   \n",
       "4          896       3  Hirvonen, Mrs. Alexander (Helga E Lindqvist)  female   \n",
       "\n",
       "    Age  SibSp  Parch   Ticket     Fare Cabin Embarked  \n",
       "0  34.5      0      0   330911   7.8292   NaN        Q  \n",
       "1  47.0      1      0   363272   7.0000   NaN        S  \n",
       "2  62.0      0      0   240276   9.6875   NaN        Q  \n",
       "3  27.0      0      0   315154   8.6625   NaN        S  \n",
       "4  22.0      1      1  3101298  12.2875   NaN        S  "
      ]
     },
     "execution_count": 3,
     "metadata": {},
     "output_type": "execute_result"
    }
   ],
   "source": [
    "test_df.head()"
   ]
  },
  {
   "cell_type": "code",
   "execution_count": 4,
   "id": "296e7864",
   "metadata": {
    "execution": {
     "iopub.execute_input": "2022-12-12T13:03:14.515425Z",
     "iopub.status.busy": "2022-12-12T13:03:14.514473Z",
     "iopub.status.idle": "2022-12-12T13:03:14.534598Z",
     "shell.execute_reply": "2022-12-12T13:03:14.533406Z"
    },
    "papermill": {
     "duration": 0.042596,
     "end_time": "2022-12-12T13:03:14.538603",
     "exception": false,
     "start_time": "2022-12-12T13:03:14.496007",
     "status": "completed"
    },
    "tags": []
   },
   "outputs": [
    {
     "data": {
      "text/html": [
       "<div>\n",
       "<style scoped>\n",
       "    .dataframe tbody tr th:only-of-type {\n",
       "        vertical-align: middle;\n",
       "    }\n",
       "\n",
       "    .dataframe tbody tr th {\n",
       "        vertical-align: top;\n",
       "    }\n",
       "\n",
       "    .dataframe thead th {\n",
       "        text-align: right;\n",
       "    }\n",
       "</style>\n",
       "<table border=\"1\" class=\"dataframe\">\n",
       "  <thead>\n",
       "    <tr style=\"text-align: right;\">\n",
       "      <th></th>\n",
       "      <th>PassengerId</th>\n",
       "      <th>Survived</th>\n",
       "      <th>Pclass</th>\n",
       "      <th>Name</th>\n",
       "      <th>Sex</th>\n",
       "      <th>Age</th>\n",
       "      <th>SibSp</th>\n",
       "      <th>Parch</th>\n",
       "      <th>Ticket</th>\n",
       "      <th>Fare</th>\n",
       "      <th>Cabin</th>\n",
       "      <th>Embarked</th>\n",
       "    </tr>\n",
       "  </thead>\n",
       "  <tbody>\n",
       "    <tr>\n",
       "      <th>0</th>\n",
       "      <td>1</td>\n",
       "      <td>0</td>\n",
       "      <td>3</td>\n",
       "      <td>Braund, Mr. Owen Harris</td>\n",
       "      <td>male</td>\n",
       "      <td>22.0</td>\n",
       "      <td>1</td>\n",
       "      <td>0</td>\n",
       "      <td>A/5 21171</td>\n",
       "      <td>7.2500</td>\n",
       "      <td>NaN</td>\n",
       "      <td>S</td>\n",
       "    </tr>\n",
       "    <tr>\n",
       "      <th>1</th>\n",
       "      <td>2</td>\n",
       "      <td>1</td>\n",
       "      <td>1</td>\n",
       "      <td>Cumings, Mrs. John Bradley (Florence Briggs Th...</td>\n",
       "      <td>female</td>\n",
       "      <td>38.0</td>\n",
       "      <td>1</td>\n",
       "      <td>0</td>\n",
       "      <td>PC 17599</td>\n",
       "      <td>71.2833</td>\n",
       "      <td>C85</td>\n",
       "      <td>C</td>\n",
       "    </tr>\n",
       "    <tr>\n",
       "      <th>2</th>\n",
       "      <td>3</td>\n",
       "      <td>1</td>\n",
       "      <td>3</td>\n",
       "      <td>Heikkinen, Miss. Laina</td>\n",
       "      <td>female</td>\n",
       "      <td>26.0</td>\n",
       "      <td>0</td>\n",
       "      <td>0</td>\n",
       "      <td>STON/O2. 3101282</td>\n",
       "      <td>7.9250</td>\n",
       "      <td>NaN</td>\n",
       "      <td>S</td>\n",
       "    </tr>\n",
       "    <tr>\n",
       "      <th>3</th>\n",
       "      <td>4</td>\n",
       "      <td>1</td>\n",
       "      <td>1</td>\n",
       "      <td>Futrelle, Mrs. Jacques Heath (Lily May Peel)</td>\n",
       "      <td>female</td>\n",
       "      <td>35.0</td>\n",
       "      <td>1</td>\n",
       "      <td>0</td>\n",
       "      <td>113803</td>\n",
       "      <td>53.1000</td>\n",
       "      <td>C123</td>\n",
       "      <td>S</td>\n",
       "    </tr>\n",
       "    <tr>\n",
       "      <th>4</th>\n",
       "      <td>5</td>\n",
       "      <td>0</td>\n",
       "      <td>3</td>\n",
       "      <td>Allen, Mr. William Henry</td>\n",
       "      <td>male</td>\n",
       "      <td>35.0</td>\n",
       "      <td>0</td>\n",
       "      <td>0</td>\n",
       "      <td>373450</td>\n",
       "      <td>8.0500</td>\n",
       "      <td>NaN</td>\n",
       "      <td>S</td>\n",
       "    </tr>\n",
       "  </tbody>\n",
       "</table>\n",
       "</div>"
      ],
      "text/plain": [
       "   PassengerId  Survived  Pclass  \\\n",
       "0            1         0       3   \n",
       "1            2         1       1   \n",
       "2            3         1       3   \n",
       "3            4         1       1   \n",
       "4            5         0       3   \n",
       "\n",
       "                                                Name     Sex   Age  SibSp  \\\n",
       "0                            Braund, Mr. Owen Harris    male  22.0      1   \n",
       "1  Cumings, Mrs. John Bradley (Florence Briggs Th...  female  38.0      1   \n",
       "2                             Heikkinen, Miss. Laina  female  26.0      0   \n",
       "3       Futrelle, Mrs. Jacques Heath (Lily May Peel)  female  35.0      1   \n",
       "4                           Allen, Mr. William Henry    male  35.0      0   \n",
       "\n",
       "   Parch            Ticket     Fare Cabin Embarked  \n",
       "0      0         A/5 21171   7.2500   NaN        S  \n",
       "1      0          PC 17599  71.2833   C85        C  \n",
       "2      0  STON/O2. 3101282   7.9250   NaN        S  \n",
       "3      0            113803  53.1000  C123        S  \n",
       "4      0            373450   8.0500   NaN        S  "
      ]
     },
     "execution_count": 4,
     "metadata": {},
     "output_type": "execute_result"
    }
   ],
   "source": [
    "train_df.head()"
   ]
  },
  {
   "cell_type": "code",
   "execution_count": 5,
   "id": "8eb6fdae",
   "metadata": {
    "execution": {
     "iopub.execute_input": "2022-12-12T13:03:14.577999Z",
     "iopub.status.busy": "2022-12-12T13:03:14.576870Z",
     "iopub.status.idle": "2022-12-12T13:03:14.593844Z",
     "shell.execute_reply": "2022-12-12T13:03:14.592868Z"
    },
    "papermill": {
     "duration": 0.039781,
     "end_time": "2022-12-12T13:03:14.597266",
     "exception": false,
     "start_time": "2022-12-12T13:03:14.557485",
     "status": "completed"
    },
    "tags": []
   },
   "outputs": [],
   "source": [
    "full_df = pd.concat([train_df, test_df]).reset_index(\n",
    "    drop=True).drop(['PassengerId'], axis=1)\n"
   ]
  },
  {
   "cell_type": "code",
   "execution_count": 6,
   "id": "705d91b7",
   "metadata": {
    "execution": {
     "iopub.execute_input": "2022-12-12T13:03:14.630704Z",
     "iopub.status.busy": "2022-12-12T13:03:14.629605Z",
     "iopub.status.idle": "2022-12-12T13:03:14.653324Z",
     "shell.execute_reply": "2022-12-12T13:03:14.652119Z"
    },
    "papermill": {
     "duration": 0.040954,
     "end_time": "2022-12-12T13:03:14.655823",
     "exception": false,
     "start_time": "2022-12-12T13:03:14.614869",
     "status": "completed"
    },
    "tags": []
   },
   "outputs": [
    {
     "data": {
      "text/html": [
       "<div>\n",
       "<style scoped>\n",
       "    .dataframe tbody tr th:only-of-type {\n",
       "        vertical-align: middle;\n",
       "    }\n",
       "\n",
       "    .dataframe tbody tr th {\n",
       "        vertical-align: top;\n",
       "    }\n",
       "\n",
       "    .dataframe thead th {\n",
       "        text-align: right;\n",
       "    }\n",
       "</style>\n",
       "<table border=\"1\" class=\"dataframe\">\n",
       "  <thead>\n",
       "    <tr style=\"text-align: right;\">\n",
       "      <th></th>\n",
       "      <th>Survived</th>\n",
       "      <th>Pclass</th>\n",
       "      <th>Name</th>\n",
       "      <th>Sex</th>\n",
       "      <th>Age</th>\n",
       "      <th>SibSp</th>\n",
       "      <th>Parch</th>\n",
       "      <th>Ticket</th>\n",
       "      <th>Fare</th>\n",
       "      <th>Cabin</th>\n",
       "      <th>Embarked</th>\n",
       "    </tr>\n",
       "  </thead>\n",
       "  <tbody>\n",
       "    <tr>\n",
       "      <th>0</th>\n",
       "      <td>0.0</td>\n",
       "      <td>3</td>\n",
       "      <td>Braund, Mr. Owen Harris</td>\n",
       "      <td>male</td>\n",
       "      <td>22.0</td>\n",
       "      <td>1</td>\n",
       "      <td>0</td>\n",
       "      <td>A/5 21171</td>\n",
       "      <td>7.2500</td>\n",
       "      <td>NaN</td>\n",
       "      <td>S</td>\n",
       "    </tr>\n",
       "    <tr>\n",
       "      <th>1</th>\n",
       "      <td>1.0</td>\n",
       "      <td>1</td>\n",
       "      <td>Cumings, Mrs. John Bradley (Florence Briggs Th...</td>\n",
       "      <td>female</td>\n",
       "      <td>38.0</td>\n",
       "      <td>1</td>\n",
       "      <td>0</td>\n",
       "      <td>PC 17599</td>\n",
       "      <td>71.2833</td>\n",
       "      <td>C85</td>\n",
       "      <td>C</td>\n",
       "    </tr>\n",
       "    <tr>\n",
       "      <th>2</th>\n",
       "      <td>1.0</td>\n",
       "      <td>3</td>\n",
       "      <td>Heikkinen, Miss. Laina</td>\n",
       "      <td>female</td>\n",
       "      <td>26.0</td>\n",
       "      <td>0</td>\n",
       "      <td>0</td>\n",
       "      <td>STON/O2. 3101282</td>\n",
       "      <td>7.9250</td>\n",
       "      <td>NaN</td>\n",
       "      <td>S</td>\n",
       "    </tr>\n",
       "    <tr>\n",
       "      <th>3</th>\n",
       "      <td>1.0</td>\n",
       "      <td>1</td>\n",
       "      <td>Futrelle, Mrs. Jacques Heath (Lily May Peel)</td>\n",
       "      <td>female</td>\n",
       "      <td>35.0</td>\n",
       "      <td>1</td>\n",
       "      <td>0</td>\n",
       "      <td>113803</td>\n",
       "      <td>53.1000</td>\n",
       "      <td>C123</td>\n",
       "      <td>S</td>\n",
       "    </tr>\n",
       "    <tr>\n",
       "      <th>4</th>\n",
       "      <td>0.0</td>\n",
       "      <td>3</td>\n",
       "      <td>Allen, Mr. William Henry</td>\n",
       "      <td>male</td>\n",
       "      <td>35.0</td>\n",
       "      <td>0</td>\n",
       "      <td>0</td>\n",
       "      <td>373450</td>\n",
       "      <td>8.0500</td>\n",
       "      <td>NaN</td>\n",
       "      <td>S</td>\n",
       "    </tr>\n",
       "    <tr>\n",
       "      <th>...</th>\n",
       "      <td>...</td>\n",
       "      <td>...</td>\n",
       "      <td>...</td>\n",
       "      <td>...</td>\n",
       "      <td>...</td>\n",
       "      <td>...</td>\n",
       "      <td>...</td>\n",
       "      <td>...</td>\n",
       "      <td>...</td>\n",
       "      <td>...</td>\n",
       "      <td>...</td>\n",
       "    </tr>\n",
       "    <tr>\n",
       "      <th>1304</th>\n",
       "      <td>NaN</td>\n",
       "      <td>3</td>\n",
       "      <td>Spector, Mr. Woolf</td>\n",
       "      <td>male</td>\n",
       "      <td>NaN</td>\n",
       "      <td>0</td>\n",
       "      <td>0</td>\n",
       "      <td>A.5. 3236</td>\n",
       "      <td>8.0500</td>\n",
       "      <td>NaN</td>\n",
       "      <td>S</td>\n",
       "    </tr>\n",
       "    <tr>\n",
       "      <th>1305</th>\n",
       "      <td>NaN</td>\n",
       "      <td>1</td>\n",
       "      <td>Oliva y Ocana, Dona. Fermina</td>\n",
       "      <td>female</td>\n",
       "      <td>39.0</td>\n",
       "      <td>0</td>\n",
       "      <td>0</td>\n",
       "      <td>PC 17758</td>\n",
       "      <td>108.9000</td>\n",
       "      <td>C105</td>\n",
       "      <td>C</td>\n",
       "    </tr>\n",
       "    <tr>\n",
       "      <th>1306</th>\n",
       "      <td>NaN</td>\n",
       "      <td>3</td>\n",
       "      <td>Saether, Mr. Simon Sivertsen</td>\n",
       "      <td>male</td>\n",
       "      <td>38.5</td>\n",
       "      <td>0</td>\n",
       "      <td>0</td>\n",
       "      <td>SOTON/O.Q. 3101262</td>\n",
       "      <td>7.2500</td>\n",
       "      <td>NaN</td>\n",
       "      <td>S</td>\n",
       "    </tr>\n",
       "    <tr>\n",
       "      <th>1307</th>\n",
       "      <td>NaN</td>\n",
       "      <td>3</td>\n",
       "      <td>Ware, Mr. Frederick</td>\n",
       "      <td>male</td>\n",
       "      <td>NaN</td>\n",
       "      <td>0</td>\n",
       "      <td>0</td>\n",
       "      <td>359309</td>\n",
       "      <td>8.0500</td>\n",
       "      <td>NaN</td>\n",
       "      <td>S</td>\n",
       "    </tr>\n",
       "    <tr>\n",
       "      <th>1308</th>\n",
       "      <td>NaN</td>\n",
       "      <td>3</td>\n",
       "      <td>Peter, Master. Michael J</td>\n",
       "      <td>male</td>\n",
       "      <td>NaN</td>\n",
       "      <td>1</td>\n",
       "      <td>1</td>\n",
       "      <td>2668</td>\n",
       "      <td>22.3583</td>\n",
       "      <td>NaN</td>\n",
       "      <td>C</td>\n",
       "    </tr>\n",
       "  </tbody>\n",
       "</table>\n",
       "<p>1309 rows × 11 columns</p>\n",
       "</div>"
      ],
      "text/plain": [
       "      Survived  Pclass                                               Name  \\\n",
       "0          0.0       3                            Braund, Mr. Owen Harris   \n",
       "1          1.0       1  Cumings, Mrs. John Bradley (Florence Briggs Th...   \n",
       "2          1.0       3                             Heikkinen, Miss. Laina   \n",
       "3          1.0       1       Futrelle, Mrs. Jacques Heath (Lily May Peel)   \n",
       "4          0.0       3                           Allen, Mr. William Henry   \n",
       "...        ...     ...                                                ...   \n",
       "1304       NaN       3                                 Spector, Mr. Woolf   \n",
       "1305       NaN       1                       Oliva y Ocana, Dona. Fermina   \n",
       "1306       NaN       3                       Saether, Mr. Simon Sivertsen   \n",
       "1307       NaN       3                                Ware, Mr. Frederick   \n",
       "1308       NaN       3                           Peter, Master. Michael J   \n",
       "\n",
       "         Sex   Age  SibSp  Parch              Ticket      Fare Cabin Embarked  \n",
       "0       male  22.0      1      0           A/5 21171    7.2500   NaN        S  \n",
       "1     female  38.0      1      0            PC 17599   71.2833   C85        C  \n",
       "2     female  26.0      0      0    STON/O2. 3101282    7.9250   NaN        S  \n",
       "3     female  35.0      1      0              113803   53.1000  C123        S  \n",
       "4       male  35.0      0      0              373450    8.0500   NaN        S  \n",
       "...      ...   ...    ...    ...                 ...       ...   ...      ...  \n",
       "1304    male   NaN      0      0           A.5. 3236    8.0500   NaN        S  \n",
       "1305  female  39.0      0      0            PC 17758  108.9000  C105        C  \n",
       "1306    male  38.5      0      0  SOTON/O.Q. 3101262    7.2500   NaN        S  \n",
       "1307    male   NaN      0      0              359309    8.0500   NaN        S  \n",
       "1308    male   NaN      1      1                2668   22.3583   NaN        C  \n",
       "\n",
       "[1309 rows x 11 columns]"
      ]
     },
     "execution_count": 6,
     "metadata": {},
     "output_type": "execute_result"
    }
   ],
   "source": [
    "full_df"
   ]
  },
  {
   "cell_type": "code",
   "execution_count": 7,
   "id": "81aee9d5",
   "metadata": {
    "execution": {
     "iopub.execute_input": "2022-12-12T13:03:14.682876Z",
     "iopub.status.busy": "2022-12-12T13:03:14.682444Z",
     "iopub.status.idle": "2022-12-12T13:03:14.705472Z",
     "shell.execute_reply": "2022-12-12T13:03:14.703328Z"
    },
    "papermill": {
     "duration": 0.039815,
     "end_time": "2022-12-12T13:03:14.708315",
     "exception": false,
     "start_time": "2022-12-12T13:03:14.668500",
     "status": "completed"
    },
    "tags": []
   },
   "outputs": [
    {
     "name": "stdout",
     "output_type": "stream",
     "text": [
      "<class 'pandas.core.frame.DataFrame'>\n",
      "RangeIndex: 1309 entries, 0 to 1308\n",
      "Data columns (total 11 columns):\n",
      " #   Column    Non-Null Count  Dtype  \n",
      "---  ------    --------------  -----  \n",
      " 0   Survived  891 non-null    float64\n",
      " 1   Pclass    1309 non-null   int64  \n",
      " 2   Name      1309 non-null   object \n",
      " 3   Sex       1309 non-null   object \n",
      " 4   Age       1046 non-null   float64\n",
      " 5   SibSp     1309 non-null   int64  \n",
      " 6   Parch     1309 non-null   int64  \n",
      " 7   Ticket    1309 non-null   object \n",
      " 8   Fare      1308 non-null   float64\n",
      " 9   Cabin     295 non-null    object \n",
      " 10  Embarked  1307 non-null   object \n",
      "dtypes: float64(3), int64(3), object(5)\n",
      "memory usage: 112.6+ KB\n"
     ]
    }
   ],
   "source": [
    "full_df.info()"
   ]
  },
  {
   "cell_type": "code",
   "execution_count": 8,
   "id": "394f7ea9",
   "metadata": {
    "execution": {
     "iopub.execute_input": "2022-12-12T13:03:14.735697Z",
     "iopub.status.busy": "2022-12-12T13:03:14.734834Z",
     "iopub.status.idle": "2022-12-12T13:03:14.741591Z",
     "shell.execute_reply": "2022-12-12T13:03:14.740175Z"
    },
    "papermill": {
     "duration": 0.023561,
     "end_time": "2022-12-12T13:03:14.744318",
     "exception": false,
     "start_time": "2022-12-12T13:03:14.720757",
     "status": "completed"
    },
    "tags": []
   },
   "outputs": [],
   "source": [
    "miss_data = full_df[['Age', 'Fare', 'Cabin', 'Embarked']]"
   ]
  },
  {
   "cell_type": "code",
   "execution_count": 9,
   "id": "c6577d91",
   "metadata": {
    "execution": {
     "iopub.execute_input": "2022-12-12T13:03:14.772277Z",
     "iopub.status.busy": "2022-12-12T13:03:14.771532Z",
     "iopub.status.idle": "2022-12-12T13:03:14.791147Z",
     "shell.execute_reply": "2022-12-12T13:03:14.789559Z"
    },
    "papermill": {
     "duration": 0.037077,
     "end_time": "2022-12-12T13:03:14.794154",
     "exception": false,
     "start_time": "2022-12-12T13:03:14.757077",
     "status": "completed"
    },
    "tags": []
   },
   "outputs": [
    {
     "data": {
      "text/plain": [
       "Age    Fare      Cabin    Embarked\n",
       "36.00  120.0000  B96 B98  S           2\n",
       "25.00  55.4417   E50      C           2\n",
       "50.00  211.5000  C80      C           2\n",
       "24.00  69.3000   B35      C           2\n",
       "0.92   151.5500  C22 C26  S           1\n",
       "                                     ..\n",
       "30.00  151.5500  C22 C26  S           1\n",
       "       164.8667  C7       S           1\n",
       "31.00  28.5375   C53      C           1\n",
       "       50.4958   A24      S           1\n",
       "80.00  30.0000   A23      S           1\n",
       "Length: 266, dtype: int64"
      ]
     },
     "execution_count": 9,
     "metadata": {},
     "output_type": "execute_result"
    }
   ],
   "source": [
    "miss_data.value_counts()"
   ]
  },
  {
   "cell_type": "code",
   "execution_count": 10,
   "id": "9b0f54de",
   "metadata": {
    "execution": {
     "iopub.execute_input": "2022-12-12T13:03:14.820873Z",
     "iopub.status.busy": "2022-12-12T13:03:14.820387Z",
     "iopub.status.idle": "2022-12-12T13:03:14.843238Z",
     "shell.execute_reply": "2022-12-12T13:03:14.841825Z"
    },
    "papermill": {
     "duration": 0.039598,
     "end_time": "2022-12-12T13:03:14.846185",
     "exception": false,
     "start_time": "2022-12-12T13:03:14.806587",
     "status": "completed"
    },
    "tags": []
   },
   "outputs": [
    {
     "data": {
      "text/html": [
       "<div>\n",
       "<style scoped>\n",
       "    .dataframe tbody tr th:only-of-type {\n",
       "        vertical-align: middle;\n",
       "    }\n",
       "\n",
       "    .dataframe tbody tr th {\n",
       "        vertical-align: top;\n",
       "    }\n",
       "\n",
       "    .dataframe thead th {\n",
       "        text-align: right;\n",
       "    }\n",
       "</style>\n",
       "<table border=\"1\" class=\"dataframe\">\n",
       "  <thead>\n",
       "    <tr style=\"text-align: right;\">\n",
       "      <th></th>\n",
       "      <th>Age</th>\n",
       "      <th>Fare</th>\n",
       "    </tr>\n",
       "  </thead>\n",
       "  <tbody>\n",
       "    <tr>\n",
       "      <th>count</th>\n",
       "      <td>1046.000000</td>\n",
       "      <td>1308.000000</td>\n",
       "    </tr>\n",
       "    <tr>\n",
       "      <th>mean</th>\n",
       "      <td>29.881138</td>\n",
       "      <td>33.295479</td>\n",
       "    </tr>\n",
       "    <tr>\n",
       "      <th>std</th>\n",
       "      <td>14.413493</td>\n",
       "      <td>51.758668</td>\n",
       "    </tr>\n",
       "    <tr>\n",
       "      <th>min</th>\n",
       "      <td>0.170000</td>\n",
       "      <td>0.000000</td>\n",
       "    </tr>\n",
       "    <tr>\n",
       "      <th>25%</th>\n",
       "      <td>21.000000</td>\n",
       "      <td>7.895800</td>\n",
       "    </tr>\n",
       "    <tr>\n",
       "      <th>50%</th>\n",
       "      <td>28.000000</td>\n",
       "      <td>14.454200</td>\n",
       "    </tr>\n",
       "    <tr>\n",
       "      <th>75%</th>\n",
       "      <td>39.000000</td>\n",
       "      <td>31.275000</td>\n",
       "    </tr>\n",
       "    <tr>\n",
       "      <th>max</th>\n",
       "      <td>80.000000</td>\n",
       "      <td>512.329200</td>\n",
       "    </tr>\n",
       "  </tbody>\n",
       "</table>\n",
       "</div>"
      ],
      "text/plain": [
       "               Age         Fare\n",
       "count  1046.000000  1308.000000\n",
       "mean     29.881138    33.295479\n",
       "std      14.413493    51.758668\n",
       "min       0.170000     0.000000\n",
       "25%      21.000000     7.895800\n",
       "50%      28.000000    14.454200\n",
       "75%      39.000000    31.275000\n",
       "max      80.000000   512.329200"
      ]
     },
     "execution_count": 10,
     "metadata": {},
     "output_type": "execute_result"
    }
   ],
   "source": [
    "miss_data.describe()"
   ]
  },
  {
   "cell_type": "code",
   "execution_count": 11,
   "id": "c4939d5d",
   "metadata": {
    "execution": {
     "iopub.execute_input": "2022-12-12T13:03:14.873346Z",
     "iopub.status.busy": "2022-12-12T13:03:14.872899Z",
     "iopub.status.idle": "2022-12-12T13:03:14.883291Z",
     "shell.execute_reply": "2022-12-12T13:03:14.881867Z"
    },
    "papermill": {
     "duration": 0.027975,
     "end_time": "2022-12-12T13:03:14.886792",
     "exception": false,
     "start_time": "2022-12-12T13:03:14.858817",
     "status": "completed"
    },
    "tags": []
   },
   "outputs": [
    {
     "name": "stdout",
     "output_type": "stream",
     "text": [
      "\n",
      "    Count of Age missings: 263 or 20.09 %\n",
      "    Count of Fare missings: 1 or 0.08\n",
      "    Count of Cabin missings: 1014 or 77.46 %\n",
      "    Count of Embarked missings: 2 or 0.15 %\n",
      "    \n"
     ]
    }
   ],
   "source": [
    "print(f'''\n",
    "    Count of Age missings: {miss_data.Age.isna().sum()} or {round(miss_data.Age.isna().sum() * 100 / len(miss_data), 2)} %\n",
    "    Count of Fare missings: {miss_data.Fare.isna().sum()} or {round(miss_data.Fare.isna().sum() * 100 / len(miss_data), 2)}\n",
    "    Count of Cabin missings: {miss_data.Cabin.isna().sum()} or {round(miss_data.Cabin.isna().sum() * 100 / len(miss_data), 2)} %\n",
    "    Count of Embarked missings: {miss_data.Embarked.isna().sum()} or {round(miss_data.Embarked.isna().sum() * 100 / len(miss_data), 2)} %\n",
    "    ''')\n"
   ]
  },
  {
   "cell_type": "code",
   "execution_count": 12,
   "id": "ecc3e5d5",
   "metadata": {
    "execution": {
     "iopub.execute_input": "2022-12-12T13:03:14.914326Z",
     "iopub.status.busy": "2022-12-12T13:03:14.913867Z",
     "iopub.status.idle": "2022-12-12T13:03:14.941360Z",
     "shell.execute_reply": "2022-12-12T13:03:14.940067Z"
    },
    "papermill": {
     "duration": 0.045548,
     "end_time": "2022-12-12T13:03:14.945116",
     "exception": false,
     "start_time": "2022-12-12T13:03:14.899568",
     "status": "completed"
    },
    "tags": []
   },
   "outputs": [
    {
     "data": {
      "text/html": [
       "<div>\n",
       "<style scoped>\n",
       "    .dataframe tbody tr th:only-of-type {\n",
       "        vertical-align: middle;\n",
       "    }\n",
       "\n",
       "    .dataframe tbody tr th {\n",
       "        vertical-align: top;\n",
       "    }\n",
       "\n",
       "    .dataframe thead th {\n",
       "        text-align: right;\n",
       "    }\n",
       "</style>\n",
       "<table border=\"1\" class=\"dataframe\">\n",
       "  <thead>\n",
       "    <tr style=\"text-align: right;\">\n",
       "      <th></th>\n",
       "      <th>Survived</th>\n",
       "      <th>Pclass</th>\n",
       "      <th>Name</th>\n",
       "      <th>Sex</th>\n",
       "      <th>Age</th>\n",
       "      <th>SibSp</th>\n",
       "      <th>Parch</th>\n",
       "      <th>Ticket</th>\n",
       "      <th>Fare</th>\n",
       "      <th>Cabin</th>\n",
       "      <th>Embarked</th>\n",
       "    </tr>\n",
       "  </thead>\n",
       "  <tbody>\n",
       "    <tr>\n",
       "      <th>179</th>\n",
       "      <td>0.0</td>\n",
       "      <td>3</td>\n",
       "      <td>Leonard, Mr. Lionel</td>\n",
       "      <td>male</td>\n",
       "      <td>36.0</td>\n",
       "      <td>0</td>\n",
       "      <td>0</td>\n",
       "      <td>LINE</td>\n",
       "      <td>0.0</td>\n",
       "      <td>NaN</td>\n",
       "      <td>S</td>\n",
       "    </tr>\n",
       "    <tr>\n",
       "      <th>263</th>\n",
       "      <td>0.0</td>\n",
       "      <td>1</td>\n",
       "      <td>Harrison, Mr. William</td>\n",
       "      <td>male</td>\n",
       "      <td>40.0</td>\n",
       "      <td>0</td>\n",
       "      <td>0</td>\n",
       "      <td>112059</td>\n",
       "      <td>0.0</td>\n",
       "      <td>B94</td>\n",
       "      <td>S</td>\n",
       "    </tr>\n",
       "    <tr>\n",
       "      <th>271</th>\n",
       "      <td>1.0</td>\n",
       "      <td>3</td>\n",
       "      <td>Tornquist, Mr. William Henry</td>\n",
       "      <td>male</td>\n",
       "      <td>25.0</td>\n",
       "      <td>0</td>\n",
       "      <td>0</td>\n",
       "      <td>LINE</td>\n",
       "      <td>0.0</td>\n",
       "      <td>NaN</td>\n",
       "      <td>S</td>\n",
       "    </tr>\n",
       "    <tr>\n",
       "      <th>277</th>\n",
       "      <td>0.0</td>\n",
       "      <td>2</td>\n",
       "      <td>Parkes, Mr. Francis \"Frank\"</td>\n",
       "      <td>male</td>\n",
       "      <td>NaN</td>\n",
       "      <td>0</td>\n",
       "      <td>0</td>\n",
       "      <td>239853</td>\n",
       "      <td>0.0</td>\n",
       "      <td>NaN</td>\n",
       "      <td>S</td>\n",
       "    </tr>\n",
       "    <tr>\n",
       "      <th>302</th>\n",
       "      <td>0.0</td>\n",
       "      <td>3</td>\n",
       "      <td>Johnson, Mr. William Cahoone Jr</td>\n",
       "      <td>male</td>\n",
       "      <td>19.0</td>\n",
       "      <td>0</td>\n",
       "      <td>0</td>\n",
       "      <td>LINE</td>\n",
       "      <td>0.0</td>\n",
       "      <td>NaN</td>\n",
       "      <td>S</td>\n",
       "    </tr>\n",
       "    <tr>\n",
       "      <th>413</th>\n",
       "      <td>0.0</td>\n",
       "      <td>2</td>\n",
       "      <td>Cunningham, Mr. Alfred Fleming</td>\n",
       "      <td>male</td>\n",
       "      <td>NaN</td>\n",
       "      <td>0</td>\n",
       "      <td>0</td>\n",
       "      <td>239853</td>\n",
       "      <td>0.0</td>\n",
       "      <td>NaN</td>\n",
       "      <td>S</td>\n",
       "    </tr>\n",
       "    <tr>\n",
       "      <th>466</th>\n",
       "      <td>0.0</td>\n",
       "      <td>2</td>\n",
       "      <td>Campbell, Mr. William</td>\n",
       "      <td>male</td>\n",
       "      <td>NaN</td>\n",
       "      <td>0</td>\n",
       "      <td>0</td>\n",
       "      <td>239853</td>\n",
       "      <td>0.0</td>\n",
       "      <td>NaN</td>\n",
       "      <td>S</td>\n",
       "    </tr>\n",
       "    <tr>\n",
       "      <th>481</th>\n",
       "      <td>0.0</td>\n",
       "      <td>2</td>\n",
       "      <td>Frost, Mr. Anthony Wood \"Archie\"</td>\n",
       "      <td>male</td>\n",
       "      <td>NaN</td>\n",
       "      <td>0</td>\n",
       "      <td>0</td>\n",
       "      <td>239854</td>\n",
       "      <td>0.0</td>\n",
       "      <td>NaN</td>\n",
       "      <td>S</td>\n",
       "    </tr>\n",
       "    <tr>\n",
       "      <th>597</th>\n",
       "      <td>0.0</td>\n",
       "      <td>3</td>\n",
       "      <td>Johnson, Mr. Alfred</td>\n",
       "      <td>male</td>\n",
       "      <td>49.0</td>\n",
       "      <td>0</td>\n",
       "      <td>0</td>\n",
       "      <td>LINE</td>\n",
       "      <td>0.0</td>\n",
       "      <td>NaN</td>\n",
       "      <td>S</td>\n",
       "    </tr>\n",
       "    <tr>\n",
       "      <th>633</th>\n",
       "      <td>0.0</td>\n",
       "      <td>1</td>\n",
       "      <td>Parr, Mr. William Henry Marsh</td>\n",
       "      <td>male</td>\n",
       "      <td>NaN</td>\n",
       "      <td>0</td>\n",
       "      <td>0</td>\n",
       "      <td>112052</td>\n",
       "      <td>0.0</td>\n",
       "      <td>NaN</td>\n",
       "      <td>S</td>\n",
       "    </tr>\n",
       "    <tr>\n",
       "      <th>674</th>\n",
       "      <td>0.0</td>\n",
       "      <td>2</td>\n",
       "      <td>Watson, Mr. Ennis Hastings</td>\n",
       "      <td>male</td>\n",
       "      <td>NaN</td>\n",
       "      <td>0</td>\n",
       "      <td>0</td>\n",
       "      <td>239856</td>\n",
       "      <td>0.0</td>\n",
       "      <td>NaN</td>\n",
       "      <td>S</td>\n",
       "    </tr>\n",
       "    <tr>\n",
       "      <th>732</th>\n",
       "      <td>0.0</td>\n",
       "      <td>2</td>\n",
       "      <td>Knight, Mr. Robert J</td>\n",
       "      <td>male</td>\n",
       "      <td>NaN</td>\n",
       "      <td>0</td>\n",
       "      <td>0</td>\n",
       "      <td>239855</td>\n",
       "      <td>0.0</td>\n",
       "      <td>NaN</td>\n",
       "      <td>S</td>\n",
       "    </tr>\n",
       "    <tr>\n",
       "      <th>806</th>\n",
       "      <td>0.0</td>\n",
       "      <td>1</td>\n",
       "      <td>Andrews, Mr. Thomas Jr</td>\n",
       "      <td>male</td>\n",
       "      <td>39.0</td>\n",
       "      <td>0</td>\n",
       "      <td>0</td>\n",
       "      <td>112050</td>\n",
       "      <td>0.0</td>\n",
       "      <td>A36</td>\n",
       "      <td>S</td>\n",
       "    </tr>\n",
       "    <tr>\n",
       "      <th>815</th>\n",
       "      <td>0.0</td>\n",
       "      <td>1</td>\n",
       "      <td>Fry, Mr. Richard</td>\n",
       "      <td>male</td>\n",
       "      <td>NaN</td>\n",
       "      <td>0</td>\n",
       "      <td>0</td>\n",
       "      <td>112058</td>\n",
       "      <td>0.0</td>\n",
       "      <td>B102</td>\n",
       "      <td>S</td>\n",
       "    </tr>\n",
       "    <tr>\n",
       "      <th>822</th>\n",
       "      <td>0.0</td>\n",
       "      <td>1</td>\n",
       "      <td>Reuchlin, Jonkheer. John George</td>\n",
       "      <td>male</td>\n",
       "      <td>38.0</td>\n",
       "      <td>0</td>\n",
       "      <td>0</td>\n",
       "      <td>19972</td>\n",
       "      <td>0.0</td>\n",
       "      <td>NaN</td>\n",
       "      <td>S</td>\n",
       "    </tr>\n",
       "    <tr>\n",
       "      <th>1157</th>\n",
       "      <td>NaN</td>\n",
       "      <td>1</td>\n",
       "      <td>Chisholm, Mr. Roderick Robert Crispin</td>\n",
       "      <td>male</td>\n",
       "      <td>NaN</td>\n",
       "      <td>0</td>\n",
       "      <td>0</td>\n",
       "      <td>112051</td>\n",
       "      <td>0.0</td>\n",
       "      <td>NaN</td>\n",
       "      <td>S</td>\n",
       "    </tr>\n",
       "    <tr>\n",
       "      <th>1263</th>\n",
       "      <td>NaN</td>\n",
       "      <td>1</td>\n",
       "      <td>Ismay, Mr. Joseph Bruce</td>\n",
       "      <td>male</td>\n",
       "      <td>49.0</td>\n",
       "      <td>0</td>\n",
       "      <td>0</td>\n",
       "      <td>112058</td>\n",
       "      <td>0.0</td>\n",
       "      <td>B52 B54 B56</td>\n",
       "      <td>S</td>\n",
       "    </tr>\n",
       "  </tbody>\n",
       "</table>\n",
       "</div>"
      ],
      "text/plain": [
       "      Survived  Pclass                                   Name   Sex   Age  \\\n",
       "179        0.0       3                    Leonard, Mr. Lionel  male  36.0   \n",
       "263        0.0       1                  Harrison, Mr. William  male  40.0   \n",
       "271        1.0       3           Tornquist, Mr. William Henry  male  25.0   \n",
       "277        0.0       2            Parkes, Mr. Francis \"Frank\"  male   NaN   \n",
       "302        0.0       3        Johnson, Mr. William Cahoone Jr  male  19.0   \n",
       "413        0.0       2         Cunningham, Mr. Alfred Fleming  male   NaN   \n",
       "466        0.0       2                  Campbell, Mr. William  male   NaN   \n",
       "481        0.0       2       Frost, Mr. Anthony Wood \"Archie\"  male   NaN   \n",
       "597        0.0       3                    Johnson, Mr. Alfred  male  49.0   \n",
       "633        0.0       1          Parr, Mr. William Henry Marsh  male   NaN   \n",
       "674        0.0       2             Watson, Mr. Ennis Hastings  male   NaN   \n",
       "732        0.0       2                   Knight, Mr. Robert J  male   NaN   \n",
       "806        0.0       1                 Andrews, Mr. Thomas Jr  male  39.0   \n",
       "815        0.0       1                       Fry, Mr. Richard  male   NaN   \n",
       "822        0.0       1        Reuchlin, Jonkheer. John George  male  38.0   \n",
       "1157       NaN       1  Chisholm, Mr. Roderick Robert Crispin  male   NaN   \n",
       "1263       NaN       1                Ismay, Mr. Joseph Bruce  male  49.0   \n",
       "\n",
       "      SibSp  Parch  Ticket  Fare        Cabin Embarked  \n",
       "179       0      0    LINE   0.0          NaN        S  \n",
       "263       0      0  112059   0.0          B94        S  \n",
       "271       0      0    LINE   0.0          NaN        S  \n",
       "277       0      0  239853   0.0          NaN        S  \n",
       "302       0      0    LINE   0.0          NaN        S  \n",
       "413       0      0  239853   0.0          NaN        S  \n",
       "466       0      0  239853   0.0          NaN        S  \n",
       "481       0      0  239854   0.0          NaN        S  \n",
       "597       0      0    LINE   0.0          NaN        S  \n",
       "633       0      0  112052   0.0          NaN        S  \n",
       "674       0      0  239856   0.0          NaN        S  \n",
       "732       0      0  239855   0.0          NaN        S  \n",
       "806       0      0  112050   0.0          A36        S  \n",
       "815       0      0  112058   0.0         B102        S  \n",
       "822       0      0   19972   0.0          NaN        S  \n",
       "1157      0      0  112051   0.0          NaN        S  \n",
       "1263      0      0  112058   0.0  B52 B54 B56        S  "
      ]
     },
     "execution_count": 12,
     "metadata": {},
     "output_type": "execute_result"
    }
   ],
   "source": [
    "full_df[full_df.Fare == 0]"
   ]
  },
  {
   "cell_type": "code",
   "execution_count": 13,
   "id": "8073ef09",
   "metadata": {
    "execution": {
     "iopub.execute_input": "2022-12-12T13:03:14.979339Z",
     "iopub.status.busy": "2022-12-12T13:03:14.978085Z",
     "iopub.status.idle": "2022-12-12T13:03:15.010829Z",
     "shell.execute_reply": "2022-12-12T13:03:15.009608Z"
    },
    "papermill": {
     "duration": 0.051471,
     "end_time": "2022-12-12T13:03:15.013337",
     "exception": false,
     "start_time": "2022-12-12T13:03:14.961866",
     "status": "completed"
    },
    "tags": []
   },
   "outputs": [
    {
     "data": {
      "text/html": [
       "<div>\n",
       "<style scoped>\n",
       "    .dataframe tbody tr th:only-of-type {\n",
       "        vertical-align: middle;\n",
       "    }\n",
       "\n",
       "    .dataframe tbody tr th {\n",
       "        vertical-align: top;\n",
       "    }\n",
       "\n",
       "    .dataframe thead th {\n",
       "        text-align: right;\n",
       "    }\n",
       "</style>\n",
       "<table border=\"1\" class=\"dataframe\">\n",
       "  <thead>\n",
       "    <tr style=\"text-align: right;\">\n",
       "      <th></th>\n",
       "      <th>Survived</th>\n",
       "      <th>Pclass</th>\n",
       "      <th>Age</th>\n",
       "      <th>SibSp</th>\n",
       "      <th>Parch</th>\n",
       "      <th>Fare</th>\n",
       "    </tr>\n",
       "  </thead>\n",
       "  <tbody>\n",
       "    <tr>\n",
       "      <th>count</th>\n",
       "      <td>15.000000</td>\n",
       "      <td>17.000000</td>\n",
       "      <td>8.000000</td>\n",
       "      <td>17.0</td>\n",
       "      <td>17.0</td>\n",
       "      <td>17.0</td>\n",
       "    </tr>\n",
       "    <tr>\n",
       "      <th>mean</th>\n",
       "      <td>0.066667</td>\n",
       "      <td>1.823529</td>\n",
       "      <td>36.875000</td>\n",
       "      <td>0.0</td>\n",
       "      <td>0.0</td>\n",
       "      <td>0.0</td>\n",
       "    </tr>\n",
       "    <tr>\n",
       "      <th>std</th>\n",
       "      <td>0.258199</td>\n",
       "      <td>0.808957</td>\n",
       "      <td>10.494046</td>\n",
       "      <td>0.0</td>\n",
       "      <td>0.0</td>\n",
       "      <td>0.0</td>\n",
       "    </tr>\n",
       "    <tr>\n",
       "      <th>min</th>\n",
       "      <td>0.000000</td>\n",
       "      <td>1.000000</td>\n",
       "      <td>19.000000</td>\n",
       "      <td>0.0</td>\n",
       "      <td>0.0</td>\n",
       "      <td>0.0</td>\n",
       "    </tr>\n",
       "    <tr>\n",
       "      <th>25%</th>\n",
       "      <td>0.000000</td>\n",
       "      <td>1.000000</td>\n",
       "      <td>33.250000</td>\n",
       "      <td>0.0</td>\n",
       "      <td>0.0</td>\n",
       "      <td>0.0</td>\n",
       "    </tr>\n",
       "    <tr>\n",
       "      <th>50%</th>\n",
       "      <td>0.000000</td>\n",
       "      <td>2.000000</td>\n",
       "      <td>38.500000</td>\n",
       "      <td>0.0</td>\n",
       "      <td>0.0</td>\n",
       "      <td>0.0</td>\n",
       "    </tr>\n",
       "    <tr>\n",
       "      <th>75%</th>\n",
       "      <td>0.000000</td>\n",
       "      <td>2.000000</td>\n",
       "      <td>42.250000</td>\n",
       "      <td>0.0</td>\n",
       "      <td>0.0</td>\n",
       "      <td>0.0</td>\n",
       "    </tr>\n",
       "    <tr>\n",
       "      <th>max</th>\n",
       "      <td>1.000000</td>\n",
       "      <td>3.000000</td>\n",
       "      <td>49.000000</td>\n",
       "      <td>0.0</td>\n",
       "      <td>0.0</td>\n",
       "      <td>0.0</td>\n",
       "    </tr>\n",
       "  </tbody>\n",
       "</table>\n",
       "</div>"
      ],
      "text/plain": [
       "        Survived     Pclass        Age  SibSp  Parch  Fare\n",
       "count  15.000000  17.000000   8.000000   17.0   17.0  17.0\n",
       "mean    0.066667   1.823529  36.875000    0.0    0.0   0.0\n",
       "std     0.258199   0.808957  10.494046    0.0    0.0   0.0\n",
       "min     0.000000   1.000000  19.000000    0.0    0.0   0.0\n",
       "25%     0.000000   1.000000  33.250000    0.0    0.0   0.0\n",
       "50%     0.000000   2.000000  38.500000    0.0    0.0   0.0\n",
       "75%     0.000000   2.000000  42.250000    0.0    0.0   0.0\n",
       "max     1.000000   3.000000  49.000000    0.0    0.0   0.0"
      ]
     },
     "execution_count": 13,
     "metadata": {},
     "output_type": "execute_result"
    }
   ],
   "source": [
    "full_df[full_df.Fare == 0].describe()"
   ]
  },
  {
   "cell_type": "code",
   "execution_count": 14,
   "id": "0e243516",
   "metadata": {
    "execution": {
     "iopub.execute_input": "2022-12-12T13:03:15.044793Z",
     "iopub.status.busy": "2022-12-12T13:03:15.044310Z",
     "iopub.status.idle": "2022-12-12T13:03:15.055934Z",
     "shell.execute_reply": "2022-12-12T13:03:15.054841Z"
    },
    "papermill": {
     "duration": 0.029062,
     "end_time": "2022-12-12T13:03:15.058264",
     "exception": false,
     "start_time": "2022-12-12T13:03:15.029202",
     "status": "completed"
    },
    "tags": []
   },
   "outputs": [],
   "source": [
    "full_df.Embarked.fillna(full_df.Embarked.mode()[0], inplace = True)\n",
    "full_df.Fare.fillna(full_df.Fare.mode()[0], inplace = True)\n",
    "full_df.drop(['Cabin', 'Ticket'], axis=1, inplace=True)"
   ]
  },
  {
   "cell_type": "code",
   "execution_count": 15,
   "id": "393112b4",
   "metadata": {
    "execution": {
     "iopub.execute_input": "2022-12-12T13:03:15.087232Z",
     "iopub.status.busy": "2022-12-12T13:03:15.086565Z",
     "iopub.status.idle": "2022-12-12T13:03:15.714546Z",
     "shell.execute_reply": "2022-12-12T13:03:15.713302Z"
    },
    "papermill": {
     "duration": 0.645575,
     "end_time": "2022-12-12T13:03:15.717293",
     "exception": false,
     "start_time": "2022-12-12T13:03:15.071718",
     "status": "completed"
    },
    "tags": []
   },
   "outputs": [
    {
     "data": {
      "text/plain": [
       "<seaborn.axisgrid.FacetGrid at 0x7f5e894af410>"
      ]
     },
     "execution_count": 15,
     "metadata": {},
     "output_type": "execute_result"
    },
    {
     "data": {
      "image/png": "[encoded data removed]",
      "text/plain": [
       "<Figure size 360x360 with 1 Axes>"
      ]
     },
     "metadata": {
      "needs_background": "light"
     },
     "output_type": "display_data"
    }
   ],
   "source": [
    "sns.displot(data=full_df, x='Fare')"
   ]
  },
  {
   "cell_type": "code",
   "execution_count": 16,
   "id": "f4a086e5",
   "metadata": {
    "execution": {
     "iopub.execute_input": "2022-12-12T13:03:15.747731Z",
     "iopub.status.busy": "2022-12-12T13:03:15.746921Z",
     "iopub.status.idle": "2022-12-12T13:03:16.337244Z",
     "shell.execute_reply": "2022-12-12T13:03:16.336210Z"
    },
    "papermill": {
     "duration": 0.608497,
     "end_time": "2022-12-12T13:03:16.339662",
     "exception": false,
     "start_time": "2022-12-12T13:03:15.731165",
     "status": "completed"
    },
    "tags": []
   },
   "outputs": [
    {
     "data": {
      "text/plain": [
       "<seaborn.axisgrid.FacetGrid at 0x7f5e89789a90>"
      ]
     },
     "execution_count": 16,
     "metadata": {},
     "output_type": "execute_result"
    },
    {
     "data": {
      "image/png": "[encoded data removed]",
      "text/plain": [
       "<Figure size 411.875x360 with 1 Axes>"
      ]
     },
     "metadata": {
      "needs_background": "light"
     },
     "output_type": "display_data"
    }
   ],
   "source": [
    "Fare_class = pd.qcut(full_df.Fare, q=8, labels=[1, 2, 3, 4, 5, 6, 7, 8])\n",
    "full_df['Fare_class'] = Fare_class.astype(int)\n",
    "sns.displot(data=full_df, x='Fare_class', hue='Survived')"
   ]
  },
  {
   "cell_type": "code",
   "execution_count": 17,
   "id": "df0038fd",
   "metadata": {
    "execution": {
     "iopub.execute_input": "2022-12-12T13:03:16.371403Z",
     "iopub.status.busy": "2022-12-12T13:03:16.370168Z",
     "iopub.status.idle": "2022-12-12T13:03:16.390442Z",
     "shell.execute_reply": "2022-12-12T13:03:16.389015Z"
    },
    "papermill": {
     "duration": 0.039063,
     "end_time": "2022-12-12T13:03:16.393159",
     "exception": false,
     "start_time": "2022-12-12T13:03:16.354096",
     "status": "completed"
    },
    "tags": []
   },
   "outputs": [
    {
     "data": {
      "text/html": [
       "<div>\n",
       "<style scoped>\n",
       "    .dataframe tbody tr th:only-of-type {\n",
       "        vertical-align: middle;\n",
       "    }\n",
       "\n",
       "    .dataframe tbody tr th {\n",
       "        vertical-align: top;\n",
       "    }\n",
       "\n",
       "    .dataframe thead th {\n",
       "        text-align: right;\n",
       "    }\n",
       "</style>\n",
       "<table border=\"1\" class=\"dataframe\">\n",
       "  <thead>\n",
       "    <tr style=\"text-align: right;\">\n",
       "      <th></th>\n",
       "      <th>Survived</th>\n",
       "      <th>Pclass</th>\n",
       "      <th>Age</th>\n",
       "      <th>SibSp</th>\n",
       "      <th>Parch</th>\n",
       "      <th>Fare</th>\n",
       "      <th>Fare_class</th>\n",
       "    </tr>\n",
       "  </thead>\n",
       "  <tbody>\n",
       "    <tr>\n",
       "      <th>Survived</th>\n",
       "      <td>1.000000</td>\n",
       "      <td>-0.338481</td>\n",
       "      <td>-0.077221</td>\n",
       "      <td>-0.035322</td>\n",
       "      <td>0.081629</td>\n",
       "      <td>0.257307</td>\n",
       "      <td>0.322280</td>\n",
       "    </tr>\n",
       "    <tr>\n",
       "      <th>Pclass</th>\n",
       "      <td>-0.338481</td>\n",
       "      <td>1.000000</td>\n",
       "      <td>-0.408106</td>\n",
       "      <td>0.060832</td>\n",
       "      <td>0.018322</td>\n",
       "      <td>-0.558740</td>\n",
       "      <td>-0.723707</td>\n",
       "    </tr>\n",
       "    <tr>\n",
       "      <th>Age</th>\n",
       "      <td>-0.077221</td>\n",
       "      <td>-0.408106</td>\n",
       "      <td>1.000000</td>\n",
       "      <td>-0.243699</td>\n",
       "      <td>-0.150917</td>\n",
       "      <td>0.177286</td>\n",
       "      <td>0.179247</td>\n",
       "    </tr>\n",
       "    <tr>\n",
       "      <th>SibSp</th>\n",
       "      <td>-0.035322</td>\n",
       "      <td>0.060832</td>\n",
       "      <td>-0.243699</td>\n",
       "      <td>1.000000</td>\n",
       "      <td>0.373587</td>\n",
       "      <td>0.160388</td>\n",
       "      <td>0.343066</td>\n",
       "    </tr>\n",
       "    <tr>\n",
       "      <th>Parch</th>\n",
       "      <td>0.081629</td>\n",
       "      <td>0.018322</td>\n",
       "      <td>-0.150917</td>\n",
       "      <td>0.373587</td>\n",
       "      <td>1.000000</td>\n",
       "      <td>0.221668</td>\n",
       "      <td>0.341250</td>\n",
       "    </tr>\n",
       "    <tr>\n",
       "      <th>Fare</th>\n",
       "      <td>0.257307</td>\n",
       "      <td>-0.558740</td>\n",
       "      <td>0.177286</td>\n",
       "      <td>0.160388</td>\n",
       "      <td>0.221668</td>\n",
       "      <td>1.000000</td>\n",
       "      <td>0.620702</td>\n",
       "    </tr>\n",
       "    <tr>\n",
       "      <th>Fare_class</th>\n",
       "      <td>0.322280</td>\n",
       "      <td>-0.723707</td>\n",
       "      <td>0.179247</td>\n",
       "      <td>0.343066</td>\n",
       "      <td>0.341250</td>\n",
       "      <td>0.620702</td>\n",
       "      <td>1.000000</td>\n",
       "    </tr>\n",
       "  </tbody>\n",
       "</table>\n",
       "</div>"
      ],
      "text/plain": [
       "            Survived    Pclass       Age     SibSp     Parch      Fare  \\\n",
       "Survived    1.000000 -0.338481 -0.077221 -0.035322  0.081629  0.257307   \n",
       "Pclass     -0.338481  1.000000 -0.408106  0.060832  0.018322 -0.558740   \n",
       "Age        -0.077221 -0.408106  1.000000 -0.243699 -0.150917  0.177286   \n",
       "SibSp      -0.035322  0.060832 -0.243699  1.000000  0.373587  0.160388   \n",
       "Parch       0.081629  0.018322 -0.150917  0.373587  1.000000  0.221668   \n",
       "Fare        0.257307 -0.558740  0.177286  0.160388  0.221668  1.000000   \n",
       "Fare_class  0.322280 -0.723707  0.179247  0.343066  0.341250  0.620702   \n",
       "\n",
       "            Fare_class  \n",
       "Survived      0.322280  \n",
       "Pclass       -0.723707  \n",
       "Age           0.179247  \n",
       "SibSp         0.343066  \n",
       "Parch         0.341250  \n",
       "Fare          0.620702  \n",
       "Fare_class    1.000000  "
      ]
     },
     "execution_count": 17,
     "metadata": {},
     "output_type": "execute_result"
    }
   ],
   "source": [
    "full_df.corr()"
   ]
  },
  {
   "cell_type": "code",
   "execution_count": 18,
   "id": "24522cce",
   "metadata": {
    "execution": {
     "iopub.execute_input": "2022-12-12T13:03:16.423727Z",
     "iopub.status.busy": "2022-12-12T13:03:16.423310Z",
     "iopub.status.idle": "2022-12-12T13:03:16.439357Z",
     "shell.execute_reply": "2022-12-12T13:03:16.438482Z"
    },
    "papermill": {
     "duration": 0.034238,
     "end_time": "2022-12-12T13:03:16.441999",
     "exception": false,
     "start_time": "2022-12-12T13:03:16.407761",
     "status": "completed"
    },
    "tags": []
   },
   "outputs": [],
   "source": [
    "full_df['Title']=0\n",
    "full_df['Title']=full_df.Name.str.extract('([A-Za-z]+)\\.') \n",
    "full_df['Title'].replace(['Mlle','Mme','Ms','Dr','Major','Lady','Countess','Jonkheer','Col',\n",
    "                         'Rev','Capt','Sir','Don'],['Miss','Miss','Miss','Mr','Mr','Mrs','Mrs','Other','Other','Other','Mr','Mr','Mr'],inplace=True)\n"
   ]
  },
  {
   "cell_type": "code",
   "execution_count": 19,
   "id": "351eafe9",
   "metadata": {
    "execution": {
     "iopub.execute_input": "2022-12-12T13:03:16.473362Z",
     "iopub.status.busy": "2022-12-12T13:03:16.472945Z",
     "iopub.status.idle": "2022-12-12T13:03:16.499883Z",
     "shell.execute_reply": "2022-12-12T13:03:16.498544Z"
    },
    "papermill": {
     "duration": 0.046257,
     "end_time": "2022-12-12T13:03:16.502458",
     "exception": false,
     "start_time": "2022-12-12T13:03:16.456201",
     "status": "completed"
    },
    "tags": []
   },
   "outputs": [
    {
     "data": {
      "text/html": [
       "<div>\n",
       "<style scoped>\n",
       "    .dataframe tbody tr th:only-of-type {\n",
       "        vertical-align: middle;\n",
       "    }\n",
       "\n",
       "    .dataframe tbody tr th {\n",
       "        vertical-align: top;\n",
       "    }\n",
       "\n",
       "    .dataframe thead th {\n",
       "        text-align: right;\n",
       "    }\n",
       "</style>\n",
       "<table border=\"1\" class=\"dataframe\">\n",
       "  <thead>\n",
       "    <tr style=\"text-align: right;\">\n",
       "      <th></th>\n",
       "      <th>Survived</th>\n",
       "      <th>Pclass</th>\n",
       "      <th>Name</th>\n",
       "      <th>Sex</th>\n",
       "      <th>Age</th>\n",
       "      <th>SibSp</th>\n",
       "      <th>Parch</th>\n",
       "      <th>Fare</th>\n",
       "      <th>Embarked</th>\n",
       "      <th>Fare_class</th>\n",
       "      <th>Title</th>\n",
       "    </tr>\n",
       "  </thead>\n",
       "  <tbody>\n",
       "    <tr>\n",
       "      <th>0</th>\n",
       "      <td>0.0</td>\n",
       "      <td>3</td>\n",
       "      <td>Braund, Mr. Owen Harris</td>\n",
       "      <td>male</td>\n",
       "      <td>22.0</td>\n",
       "      <td>1</td>\n",
       "      <td>0</td>\n",
       "      <td>7.2500</td>\n",
       "      <td>S</td>\n",
       "      <td>1</td>\n",
       "      <td>Mr</td>\n",
       "    </tr>\n",
       "    <tr>\n",
       "      <th>1</th>\n",
       "      <td>1.0</td>\n",
       "      <td>1</td>\n",
       "      <td>Cumings, Mrs. John Bradley (Florence Briggs Th...</td>\n",
       "      <td>female</td>\n",
       "      <td>38.0</td>\n",
       "      <td>1</td>\n",
       "      <td>0</td>\n",
       "      <td>71.2833</td>\n",
       "      <td>C</td>\n",
       "      <td>8</td>\n",
       "      <td>Mrs</td>\n",
       "    </tr>\n",
       "    <tr>\n",
       "      <th>2</th>\n",
       "      <td>1.0</td>\n",
       "      <td>3</td>\n",
       "      <td>Heikkinen, Miss. Laina</td>\n",
       "      <td>female</td>\n",
       "      <td>26.0</td>\n",
       "      <td>0</td>\n",
       "      <td>0</td>\n",
       "      <td>7.9250</td>\n",
       "      <td>S</td>\n",
       "      <td>3</td>\n",
       "      <td>Miss</td>\n",
       "    </tr>\n",
       "    <tr>\n",
       "      <th>3</th>\n",
       "      <td>1.0</td>\n",
       "      <td>1</td>\n",
       "      <td>Futrelle, Mrs. Jacques Heath (Lily May Peel)</td>\n",
       "      <td>female</td>\n",
       "      <td>35.0</td>\n",
       "      <td>1</td>\n",
       "      <td>0</td>\n",
       "      <td>53.1000</td>\n",
       "      <td>S</td>\n",
       "      <td>7</td>\n",
       "      <td>Mrs</td>\n",
       "    </tr>\n",
       "    <tr>\n",
       "      <th>4</th>\n",
       "      <td>0.0</td>\n",
       "      <td>3</td>\n",
       "      <td>Allen, Mr. William Henry</td>\n",
       "      <td>male</td>\n",
       "      <td>35.0</td>\n",
       "      <td>0</td>\n",
       "      <td>0</td>\n",
       "      <td>8.0500</td>\n",
       "      <td>S</td>\n",
       "      <td>3</td>\n",
       "      <td>Mr</td>\n",
       "    </tr>\n",
       "    <tr>\n",
       "      <th>...</th>\n",
       "      <td>...</td>\n",
       "      <td>...</td>\n",
       "      <td>...</td>\n",
       "      <td>...</td>\n",
       "      <td>...</td>\n",
       "      <td>...</td>\n",
       "      <td>...</td>\n",
       "      <td>...</td>\n",
       "      <td>...</td>\n",
       "      <td>...</td>\n",
       "      <td>...</td>\n",
       "    </tr>\n",
       "    <tr>\n",
       "      <th>1304</th>\n",
       "      <td>NaN</td>\n",
       "      <td>3</td>\n",
       "      <td>Spector, Mr. Woolf</td>\n",
       "      <td>male</td>\n",
       "      <td>NaN</td>\n",
       "      <td>0</td>\n",
       "      <td>0</td>\n",
       "      <td>8.0500</td>\n",
       "      <td>S</td>\n",
       "      <td>3</td>\n",
       "      <td>Mr</td>\n",
       "    </tr>\n",
       "    <tr>\n",
       "      <th>1305</th>\n",
       "      <td>NaN</td>\n",
       "      <td>1</td>\n",
       "      <td>Oliva y Ocana, Dona. Fermina</td>\n",
       "      <td>female</td>\n",
       "      <td>39.0</td>\n",
       "      <td>0</td>\n",
       "      <td>0</td>\n",
       "      <td>108.9000</td>\n",
       "      <td>C</td>\n",
       "      <td>8</td>\n",
       "      <td>Dona</td>\n",
       "    </tr>\n",
       "    <tr>\n",
       "      <th>1306</th>\n",
       "      <td>NaN</td>\n",
       "      <td>3</td>\n",
       "      <td>Saether, Mr. Simon Sivertsen</td>\n",
       "      <td>male</td>\n",
       "      <td>38.5</td>\n",
       "      <td>0</td>\n",
       "      <td>0</td>\n",
       "      <td>7.2500</td>\n",
       "      <td>S</td>\n",
       "      <td>1</td>\n",
       "      <td>Mr</td>\n",
       "    </tr>\n",
       "    <tr>\n",
       "      <th>1307</th>\n",
       "      <td>NaN</td>\n",
       "      <td>3</td>\n",
       "      <td>Ware, Mr. Frederick</td>\n",
       "      <td>male</td>\n",
       "      <td>NaN</td>\n",
       "      <td>0</td>\n",
       "      <td>0</td>\n",
       "      <td>8.0500</td>\n",
       "      <td>S</td>\n",
       "      <td>3</td>\n",
       "      <td>Mr</td>\n",
       "    </tr>\n",
       "    <tr>\n",
       "      <th>1308</th>\n",
       "      <td>NaN</td>\n",
       "      <td>3</td>\n",
       "      <td>Peter, Master. Michael J</td>\n",
       "      <td>male</td>\n",
       "      <td>NaN</td>\n",
       "      <td>1</td>\n",
       "      <td>1</td>\n",
       "      <td>22.3583</td>\n",
       "      <td>C</td>\n",
       "      <td>5</td>\n",
       "      <td>Master</td>\n",
       "    </tr>\n",
       "  </tbody>\n",
       "</table>\n",
       "<p>1309 rows × 11 columns</p>\n",
       "</div>"
      ],
      "text/plain": [
       "      Survived  Pclass                                               Name  \\\n",
       "0          0.0       3                            Braund, Mr. Owen Harris   \n",
       "1          1.0       1  Cumings, Mrs. John Bradley (Florence Briggs Th...   \n",
       "2          1.0       3                             Heikkinen, Miss. Laina   \n",
       "3          1.0       1       Futrelle, Mrs. Jacques Heath (Lily May Peel)   \n",
       "4          0.0       3                           Allen, Mr. William Henry   \n",
       "...        ...     ...                                                ...   \n",
       "1304       NaN       3                                 Spector, Mr. Woolf   \n",
       "1305       NaN       1                       Oliva y Ocana, Dona. Fermina   \n",
       "1306       NaN       3                       Saether, Mr. Simon Sivertsen   \n",
       "1307       NaN       3                                Ware, Mr. Frederick   \n",
       "1308       NaN       3                           Peter, Master. Michael J   \n",
       "\n",
       "         Sex   Age  SibSp  Parch      Fare Embarked  Fare_class   Title  \n",
       "0       male  22.0      1      0    7.2500        S           1      Mr  \n",
       "1     female  38.0      1      0   71.2833        C           8     Mrs  \n",
       "2     female  26.0      0      0    7.9250        S           3    Miss  \n",
       "3     female  35.0      1      0   53.1000        S           7     Mrs  \n",
       "4       male  35.0      0      0    8.0500        S           3      Mr  \n",
       "...      ...   ...    ...    ...       ...      ...         ...     ...  \n",
       "1304    male   NaN      0      0    8.0500        S           3      Mr  \n",
       "1305  female  39.0      0      0  108.9000        C           8    Dona  \n",
       "1306    male  38.5      0      0    7.2500        S           1      Mr  \n",
       "1307    male   NaN      0      0    8.0500        S           3      Mr  \n",
       "1308    male   NaN      1      1   22.3583        C           5  Master  \n",
       "\n",
       "[1309 rows x 11 columns]"
      ]
     },
     "execution_count": 19,
     "metadata": {},
     "output_type": "execute_result"
    }
   ],
   "source": [
    "full_df"
   ]
  },
  {
   "cell_type": "code",
   "execution_count": 20,
   "id": "52452921",
   "metadata": {
    "execution": {
     "iopub.execute_input": "2022-12-12T13:03:16.534441Z",
     "iopub.status.busy": "2022-12-12T13:03:16.533484Z",
     "iopub.status.idle": "2022-12-12T13:03:16.979232Z",
     "shell.execute_reply": "2022-12-12T13:03:16.977993Z"
    },
    "papermill": {
     "duration": 0.464448,
     "end_time": "2022-12-12T13:03:16.981838",
     "exception": false,
     "start_time": "2022-12-12T13:03:16.517390",
     "status": "completed"
    },
    "tags": []
   },
   "outputs": [
    {
     "data": {
      "text/plain": [
       "<seaborn.axisgrid.FacetGrid at 0x7f5e87106650>"
      ]
     },
     "execution_count": 20,
     "metadata": {},
     "output_type": "execute_result"
    },
    {
     "data": {
      "image/png": "[encoded data removed]",
      "text/plain": [
       "<Figure size 360x360 with 1 Axes>"
      ]
     },
     "metadata": {
      "needs_background": "light"
     },
     "output_type": "display_data"
    }
   ],
   "source": [
    "sns.catplot(data=full_df, y='Age', x='Title', kind='bar')"
   ]
  },
  {
   "cell_type": "code",
   "execution_count": 21,
   "id": "04a0deaf",
   "metadata": {
    "execution": {
     "iopub.execute_input": "2022-12-12T13:03:17.014326Z",
     "iopub.status.busy": "2022-12-12T13:03:17.013546Z",
     "iopub.status.idle": "2022-12-12T13:03:17.024229Z",
     "shell.execute_reply": "2022-12-12T13:03:17.023107Z"
    },
    "papermill": {
     "duration": 0.029677,
     "end_time": "2022-12-12T13:03:17.026638",
     "exception": false,
     "start_time": "2022-12-12T13:03:16.996961",
     "status": "completed"
    },
    "tags": []
   },
   "outputs": [
    {
     "data": {
      "text/plain": [
       "Survived      418\n",
       "Pclass          0\n",
       "Name            0\n",
       "Sex             0\n",
       "Age           263\n",
       "SibSp           0\n",
       "Parch           0\n",
       "Fare            0\n",
       "Embarked        0\n",
       "Fare_class      0\n",
       "Title           0\n",
       "dtype: int64"
      ]
     },
     "execution_count": 21,
     "metadata": {},
     "output_type": "execute_result"
    }
   ],
   "source": [
    "full_df.isna().sum()"
   ]
  },
  {
   "cell_type": "code",
   "execution_count": 22,
   "id": "415e1022",
   "metadata": {
    "execution": {
     "iopub.execute_input": "2022-12-12T13:03:17.059696Z",
     "iopub.status.busy": "2022-12-12T13:03:17.058815Z",
     "iopub.status.idle": "2022-12-12T13:03:17.075958Z",
     "shell.execute_reply": "2022-12-12T13:03:17.074492Z"
    },
    "papermill": {
     "duration": 0.036647,
     "end_time": "2022-12-12T13:03:17.078930",
     "exception": false,
     "start_time": "2022-12-12T13:03:17.042283",
     "status": "completed"
    },
    "tags": []
   },
   "outputs": [
    {
     "data": {
      "text/plain": [
       "Survived     -0.077221\n",
       "Pclass       -0.408106\n",
       "SibSp        -0.243699\n",
       "Parch        -0.150917\n",
       "Fare          0.177286\n",
       "Fare_class    0.179247\n",
       "dtype: float64"
      ]
     },
     "execution_count": 22,
     "metadata": {},
     "output_type": "execute_result"
    }
   ],
   "source": [
    "full_df.drop(['Age'], axis=1).corrwith(other=full_df.Age)"
   ]
  },
  {
   "cell_type": "code",
   "execution_count": 23,
   "id": "d198fe07",
   "metadata": {
    "execution": {
     "iopub.execute_input": "2022-12-12T13:03:17.111966Z",
     "iopub.status.busy": "2022-12-12T13:03:17.111483Z",
     "iopub.status.idle": "2022-12-12T13:03:17.124954Z",
     "shell.execute_reply": "2022-12-12T13:03:17.123525Z"
    },
    "papermill": {
     "duration": 0.03301,
     "end_time": "2022-12-12T13:03:17.127628",
     "exception": false,
     "start_time": "2022-12-12T13:03:17.094618",
     "status": "completed"
    },
    "tags": []
   },
   "outputs": [
    {
     "data": {
      "text/plain": [
       "count    1046.000000\n",
       "mean       29.881138\n",
       "std        14.413493\n",
       "min         0.170000\n",
       "25%        21.000000\n",
       "50%        28.000000\n",
       "75%        39.000000\n",
       "max        80.000000\n",
       "Name: Age, dtype: float64"
      ]
     },
     "execution_count": 23,
     "metadata": {},
     "output_type": "execute_result"
    }
   ],
   "source": [
    "full_df.Age.describe()"
   ]
  },
  {
   "cell_type": "code",
   "execution_count": 24,
   "id": "5ee3350a",
   "metadata": {
    "execution": {
     "iopub.execute_input": "2022-12-12T13:03:17.160442Z",
     "iopub.status.busy": "2022-12-12T13:03:17.159996Z",
     "iopub.status.idle": "2022-12-12T13:03:19.086318Z",
     "shell.execute_reply": "2022-12-12T13:03:19.084899Z"
    },
    "papermill": {
     "duration": 1.946156,
     "end_time": "2022-12-12T13:03:19.089270",
     "exception": false,
     "start_time": "2022-12-12T13:03:17.143114",
     "status": "completed"
    },
    "tags": []
   },
   "outputs": [
    {
     "data": {
      "text/plain": [
       "<seaborn.axisgrid.FacetGrid at 0x7f5e87030050>"
      ]
     },
     "execution_count": 24,
     "metadata": {},
     "output_type": "execute_result"
    },
    {
     "data": {
      "image/png": "[encoded data removed]",
      "text/plain": [
       "<Figure size 360x360 with 1 Axes>"
      ]
     },
     "metadata": {
      "needs_background": "light"
     },
     "output_type": "display_data"
    },
    {
     "data": {
      "image/png": "[encoded data removed]",
      "text/plain": [
       "<Figure size 360x360 with 1 Axes>"
      ]
     },
     "metadata": {
      "needs_background": "light"
     },
     "output_type": "display_data"
    },
    {
     "data": {
      "image/png": "[encoded data removed]",
      "text/plain": [
       "<Figure size 360x360 with 1 Axes>"
      ]
     },
     "metadata": {
      "needs_background": "light"
     },
     "output_type": "display_data"
    },
    {
     "data": {
      "image/png": "[encoded data removed]",
      "text/plain": [
       "<Figure size 360x360 with 1 Axes>"
      ]
     },
     "metadata": {
      "needs_background": "light"
     },
     "output_type": "display_data"
    }
   ],
   "source": [
    "sns.catplot(data=full_df, y='Age', x='Pclass', kind='bar')\n",
    "sns.catplot(data=full_df, y='Age', x='SibSp', kind='bar')\n",
    "sns.catplot(data=full_df, y='Age', x='Parch', kind='bar')\n",
    "sns.catplot(data=full_df, y='Age', x='Fare_class', kind='bar')"
   ]
  },
  {
   "cell_type": "code",
   "execution_count": 25,
   "id": "906823a7",
   "metadata": {
    "execution": {
     "iopub.execute_input": "2022-12-12T13:03:19.125765Z",
     "iopub.status.busy": "2022-12-12T13:03:19.124401Z",
     "iopub.status.idle": "2022-12-12T13:03:19.135924Z",
     "shell.execute_reply": "2022-12-12T13:03:19.134752Z"
    },
    "papermill": {
     "duration": 0.032129,
     "end_time": "2022-12-12T13:03:19.138402",
     "exception": false,
     "start_time": "2022-12-12T13:03:19.106273",
     "status": "completed"
    },
    "tags": []
   },
   "outputs": [],
   "source": [
    "le = LabelEncoder()\n",
    "categorical_features = ['Sex', 'Title', 'Embarked']\n",
    "full_df_enc = full_df.copy()\n",
    "for feature  in categorical_features: \n",
    "    feature_enc = le.fit_transform(full_df[feature])\n",
    "    full_df_enc[feature] = pd.Series(feature_enc.reshape(-1,))\n"
   ]
  },
  {
   "cell_type": "code",
   "execution_count": 26,
   "id": "b6435aa0",
   "metadata": {
    "execution": {
     "iopub.execute_input": "2022-12-12T13:03:19.173330Z",
     "iopub.status.busy": "2022-12-12T13:03:19.172949Z",
     "iopub.status.idle": "2022-12-12T13:03:19.196647Z",
     "shell.execute_reply": "2022-12-12T13:03:19.195134Z"
    },
    "papermill": {
     "duration": 0.044616,
     "end_time": "2022-12-12T13:03:19.199741",
     "exception": false,
     "start_time": "2022-12-12T13:03:19.155125",
     "status": "completed"
    },
    "tags": []
   },
   "outputs": [
    {
     "data": {
      "text/html": [
       "<div>\n",
       "<style scoped>\n",
       "    .dataframe tbody tr th:only-of-type {\n",
       "        vertical-align: middle;\n",
       "    }\n",
       "\n",
       "    .dataframe tbody tr th {\n",
       "        vertical-align: top;\n",
       "    }\n",
       "\n",
       "    .dataframe thead th {\n",
       "        text-align: right;\n",
       "    }\n",
       "</style>\n",
       "<table border=\"1\" class=\"dataframe\">\n",
       "  <thead>\n",
       "    <tr style=\"text-align: right;\">\n",
       "      <th></th>\n",
       "      <th>Survived</th>\n",
       "      <th>Pclass</th>\n",
       "      <th>Name</th>\n",
       "      <th>Sex</th>\n",
       "      <th>Age</th>\n",
       "      <th>SibSp</th>\n",
       "      <th>Parch</th>\n",
       "      <th>Fare</th>\n",
       "      <th>Embarked</th>\n",
       "      <th>Fare_class</th>\n",
       "      <th>Title</th>\n",
       "    </tr>\n",
       "  </thead>\n",
       "  <tbody>\n",
       "    <tr>\n",
       "      <th>0</th>\n",
       "      <td>0.0</td>\n",
       "      <td>3</td>\n",
       "      <td>Braund, Mr. Owen Harris</td>\n",
       "      <td>1</td>\n",
       "      <td>22.0</td>\n",
       "      <td>1</td>\n",
       "      <td>0</td>\n",
       "      <td>7.2500</td>\n",
       "      <td>2</td>\n",
       "      <td>1</td>\n",
       "      <td>3</td>\n",
       "    </tr>\n",
       "    <tr>\n",
       "      <th>1</th>\n",
       "      <td>1.0</td>\n",
       "      <td>1</td>\n",
       "      <td>Cumings, Mrs. John Bradley (Florence Briggs Th...</td>\n",
       "      <td>0</td>\n",
       "      <td>38.0</td>\n",
       "      <td>1</td>\n",
       "      <td>0</td>\n",
       "      <td>71.2833</td>\n",
       "      <td>0</td>\n",
       "      <td>8</td>\n",
       "      <td>4</td>\n",
       "    </tr>\n",
       "    <tr>\n",
       "      <th>2</th>\n",
       "      <td>1.0</td>\n",
       "      <td>3</td>\n",
       "      <td>Heikkinen, Miss. Laina</td>\n",
       "      <td>0</td>\n",
       "      <td>26.0</td>\n",
       "      <td>0</td>\n",
       "      <td>0</td>\n",
       "      <td>7.9250</td>\n",
       "      <td>2</td>\n",
       "      <td>3</td>\n",
       "      <td>2</td>\n",
       "    </tr>\n",
       "    <tr>\n",
       "      <th>3</th>\n",
       "      <td>1.0</td>\n",
       "      <td>1</td>\n",
       "      <td>Futrelle, Mrs. Jacques Heath (Lily May Peel)</td>\n",
       "      <td>0</td>\n",
       "      <td>35.0</td>\n",
       "      <td>1</td>\n",
       "      <td>0</td>\n",
       "      <td>53.1000</td>\n",
       "      <td>2</td>\n",
       "      <td>7</td>\n",
       "      <td>4</td>\n",
       "    </tr>\n",
       "    <tr>\n",
       "      <th>4</th>\n",
       "      <td>0.0</td>\n",
       "      <td>3</td>\n",
       "      <td>Allen, Mr. William Henry</td>\n",
       "      <td>1</td>\n",
       "      <td>35.0</td>\n",
       "      <td>0</td>\n",
       "      <td>0</td>\n",
       "      <td>8.0500</td>\n",
       "      <td>2</td>\n",
       "      <td>3</td>\n",
       "      <td>3</td>\n",
       "    </tr>\n",
       "    <tr>\n",
       "      <th>...</th>\n",
       "      <td>...</td>\n",
       "      <td>...</td>\n",
       "      <td>...</td>\n",
       "      <td>...</td>\n",
       "      <td>...</td>\n",
       "      <td>...</td>\n",
       "      <td>...</td>\n",
       "      <td>...</td>\n",
       "      <td>...</td>\n",
       "      <td>...</td>\n",
       "      <td>...</td>\n",
       "    </tr>\n",
       "    <tr>\n",
       "      <th>1304</th>\n",
       "      <td>NaN</td>\n",
       "      <td>3</td>\n",
       "      <td>Spector, Mr. Woolf</td>\n",
       "      <td>1</td>\n",
       "      <td>NaN</td>\n",
       "      <td>0</td>\n",
       "      <td>0</td>\n",
       "      <td>8.0500</td>\n",
       "      <td>2</td>\n",
       "      <td>3</td>\n",
       "      <td>3</td>\n",
       "    </tr>\n",
       "    <tr>\n",
       "      <th>1305</th>\n",
       "      <td>NaN</td>\n",
       "      <td>1</td>\n",
       "      <td>Oliva y Ocana, Dona. Fermina</td>\n",
       "      <td>0</td>\n",
       "      <td>39.0</td>\n",
       "      <td>0</td>\n",
       "      <td>0</td>\n",
       "      <td>108.9000</td>\n",
       "      <td>0</td>\n",
       "      <td>8</td>\n",
       "      <td>0</td>\n",
       "    </tr>\n",
       "    <tr>\n",
       "      <th>1306</th>\n",
       "      <td>NaN</td>\n",
       "      <td>3</td>\n",
       "      <td>Saether, Mr. Simon Sivertsen</td>\n",
       "      <td>1</td>\n",
       "      <td>38.5</td>\n",
       "      <td>0</td>\n",
       "      <td>0</td>\n",
       "      <td>7.2500</td>\n",
       "      <td>2</td>\n",
       "      <td>1</td>\n",
       "      <td>3</td>\n",
       "    </tr>\n",
       "    <tr>\n",
       "      <th>1307</th>\n",
       "      <td>NaN</td>\n",
       "      <td>3</td>\n",
       "      <td>Ware, Mr. Frederick</td>\n",
       "      <td>1</td>\n",
       "      <td>NaN</td>\n",
       "      <td>0</td>\n",
       "      <td>0</td>\n",
       "      <td>8.0500</td>\n",
       "      <td>2</td>\n",
       "      <td>3</td>\n",
       "      <td>3</td>\n",
       "    </tr>\n",
       "    <tr>\n",
       "      <th>1308</th>\n",
       "      <td>NaN</td>\n",
       "      <td>3</td>\n",
       "      <td>Peter, Master. Michael J</td>\n",
       "      <td>1</td>\n",
       "      <td>NaN</td>\n",
       "      <td>1</td>\n",
       "      <td>1</td>\n",
       "      <td>22.3583</td>\n",
       "      <td>0</td>\n",
       "      <td>5</td>\n",
       "      <td>1</td>\n",
       "    </tr>\n",
       "  </tbody>\n",
       "</table>\n",
       "<p>1309 rows × 11 columns</p>\n",
       "</div>"
      ],
      "text/plain": [
       "      Survived  Pclass                                               Name  \\\n",
       "0          0.0       3                            Braund, Mr. Owen Harris   \n",
       "1          1.0       1  Cumings, Mrs. John Bradley (Florence Briggs Th...   \n",
       "2          1.0       3                             Heikkinen, Miss. Laina   \n",
       "3          1.0       1       Futrelle, Mrs. Jacques Heath (Lily May Peel)   \n",
       "4          0.0       3                           Allen, Mr. William Henry   \n",
       "...        ...     ...                                                ...   \n",
       "1304       NaN       3                                 Spector, Mr. Woolf   \n",
       "1305       NaN       1                       Oliva y Ocana, Dona. Fermina   \n",
       "1306       NaN       3                       Saether, Mr. Simon Sivertsen   \n",
       "1307       NaN       3                                Ware, Mr. Frederick   \n",
       "1308       NaN       3                           Peter, Master. Michael J   \n",
       "\n",
       "      Sex   Age  SibSp  Parch      Fare  Embarked  Fare_class  Title  \n",
       "0       1  22.0      1      0    7.2500         2           1      3  \n",
       "1       0  38.0      1      0   71.2833         0           8      4  \n",
       "2       0  26.0      0      0    7.9250         2           3      2  \n",
       "3       0  35.0      1      0   53.1000         2           7      4  \n",
       "4       1  35.0      0      0    8.0500         2           3      3  \n",
       "...   ...   ...    ...    ...       ...       ...         ...    ...  \n",
       "1304    1   NaN      0      0    8.0500         2           3      3  \n",
       "1305    0  39.0      0      0  108.9000         0           8      0  \n",
       "1306    1  38.5      0      0    7.2500         2           1      3  \n",
       "1307    1   NaN      0      0    8.0500         2           3      3  \n",
       "1308    1   NaN      1      1   22.3583         0           5      1  \n",
       "\n",
       "[1309 rows x 11 columns]"
      ]
     },
     "execution_count": 26,
     "metadata": {},
     "output_type": "execute_result"
    }
   ],
   "source": [
    "full_df_enc"
   ]
  },
  {
   "cell_type": "code",
   "execution_count": 27,
   "id": "9008bdbf",
   "metadata": {
    "execution": {
     "iopub.execute_input": "2022-12-12T13:03:19.237528Z",
     "iopub.status.busy": "2022-12-12T13:03:19.236187Z",
     "iopub.status.idle": "2022-12-12T13:03:20.089546Z",
     "shell.execute_reply": "2022-12-12T13:03:20.088579Z"
    },
    "papermill": {
     "duration": 0.875179,
     "end_time": "2022-12-12T13:03:20.092244",
     "exception": false,
     "start_time": "2022-12-12T13:03:19.217065",
     "status": "completed"
    },
    "tags": []
   },
   "outputs": [
    {
     "data": {
      "text/plain": [
       "<AxesSubplot:>"
      ]
     },
     "execution_count": 27,
     "metadata": {},
     "output_type": "execute_result"
    },
    {
     "data": {
      "image/png": "[encoded data removed]",
      "text/plain": [
       "<Figure size 432x288 with 2 Axes>"
      ]
     },
     "metadata": {
      "needs_background": "light"
     },
     "output_type": "display_data"
    }
   ],
   "source": [
    "sns.heatmap(data=full_df_enc.corr(), annot=True)\n"
   ]
  },
  {
   "cell_type": "code",
   "execution_count": 28,
   "id": "dc2206f2",
   "metadata": {
    "execution": {
     "iopub.execute_input": "2022-12-12T13:03:20.130195Z",
     "iopub.status.busy": "2022-12-12T13:03:20.129730Z",
     "iopub.status.idle": "2022-12-12T13:03:21.246578Z",
     "shell.execute_reply": "2022-12-12T13:03:21.245185Z"
    },
    "papermill": {
     "duration": 1.139881,
     "end_time": "2022-12-12T13:03:21.250087",
     "exception": false,
     "start_time": "2022-12-12T13:03:20.110206",
     "status": "completed"
    },
    "tags": []
   },
   "outputs": [
    {
     "data": {
      "text/plain": [
       "<AxesSubplot:>"
      ]
     },
     "execution_count": 28,
     "metadata": {},
     "output_type": "execute_result"
    },
    {
     "data": {
      "image/png": "[encoded data removed]",
      "text/plain": [
       "<Figure size 432x288 with 2 Axes>"
      ]
     },
     "metadata": {
      "needs_background": "light"
     },
     "output_type": "display_data"
    }
   ],
   "source": [
    "sns.heatmap(data=full_df_enc.corr(), annot=True)\n"
   ]
  },
  {
   "cell_type": "code",
   "execution_count": 29,
   "id": "e3f121da",
   "metadata": {
    "execution": {
     "iopub.execute_input": "2022-12-12T13:03:21.293200Z",
     "iopub.status.busy": "2022-12-12T13:03:21.292748Z",
     "iopub.status.idle": "2022-12-12T13:03:21.300576Z",
     "shell.execute_reply": "2022-12-12T13:03:21.299051Z"
    },
    "papermill": {
     "duration": 0.031659,
     "end_time": "2022-12-12T13:03:21.303047",
     "exception": false,
     "start_time": "2022-12-12T13:03:21.271388",
     "status": "completed"
    },
    "tags": []
   },
   "outputs": [],
   "source": [
    "full_df_enc.loc[full_df_enc['Title'] == 0, 'Title'] = 4\n"
   ]
  },
  {
   "cell_type": "code",
   "execution_count": 30,
   "id": "1be88ea4",
   "metadata": {
    "execution": {
     "iopub.execute_input": "2022-12-12T13:03:21.344618Z",
     "iopub.status.busy": "2022-12-12T13:03:21.344062Z",
     "iopub.status.idle": "2022-12-12T13:03:21.362528Z",
     "shell.execute_reply": "2022-12-12T13:03:21.361132Z"
    },
    "papermill": {
     "duration": 0.042705,
     "end_time": "2022-12-12T13:03:21.365534",
     "exception": false,
     "start_time": "2022-12-12T13:03:21.322829",
     "status": "completed"
    },
    "tags": []
   },
   "outputs": [
    {
     "data": {
      "text/plain": [
       "Survived     -0.077221\n",
       "Pclass       -0.408106\n",
       "Sex           0.063645\n",
       "SibSp        -0.243699\n",
       "Parch        -0.150917\n",
       "Fare          0.177286\n",
       "Embarked     -0.080195\n",
       "Fare_class    0.179247\n",
       "Title         0.505016\n",
       "dtype: float64"
      ]
     },
     "execution_count": 30,
     "metadata": {},
     "output_type": "execute_result"
    }
   ],
   "source": [
    "full_df_enc.drop(['Age'], axis=1).corrwith(other=full_df_enc.Age)\n"
   ]
  },
  {
   "cell_type": "code",
   "execution_count": 31,
   "id": "18e6df09",
   "metadata": {
    "execution": {
     "iopub.execute_input": "2022-12-12T13:03:21.408064Z",
     "iopub.status.busy": "2022-12-12T13:03:21.407056Z",
     "iopub.status.idle": "2022-12-12T13:03:21.420823Z",
     "shell.execute_reply": "2022-12-12T13:03:21.419721Z"
    },
    "papermill": {
     "duration": 0.038371,
     "end_time": "2022-12-12T13:03:21.423722",
     "exception": false,
     "start_time": "2022-12-12T13:03:21.385351",
     "status": "completed"
    },
    "tags": []
   },
   "outputs": [],
   "source": [
    "X = full_df_enc[full_df_enc['Age'].notna()].drop(['Age', 'Name', 'Survived'], axis=1)\n",
    "y = full_df_enc[full_df_enc['Age'].notna()].Age\n",
    "X_train, X_test, y_train, y_test = train_test_split(X, y, test_size=0.1, random_state=0, stratify=X['Title'])\n"
   ]
  },
  {
   "cell_type": "code",
   "execution_count": 32,
   "id": "ee8991d6",
   "metadata": {
    "execution": {
     "iopub.execute_input": "2022-12-12T13:03:21.464427Z",
     "iopub.status.busy": "2022-12-12T13:03:21.463740Z",
     "iopub.status.idle": "2022-12-12T13:03:29.228536Z",
     "shell.execute_reply": "2022-12-12T13:03:29.226330Z"
    },
    "papermill": {
     "duration": 7.788804,
     "end_time": "2022-12-12T13:03:29.231528",
     "exception": false,
     "start_time": "2022-12-12T13:03:21.442724",
     "status": "completed"
    },
    "tags": []
   },
   "outputs": [
    {
     "name": "stdout",
     "output_type": "stream",
     "text": [
      "      Iter       Train Loss   Remaining Time \n",
      "         1         102.8716            9.94s\n",
      "         2         100.9939            9.50s\n",
      "         3          99.1788            9.30s\n",
      "         4          97.4216            8.99s\n",
      "         5          95.7196            8.82s\n",
      "         6          94.0732            8.66s\n",
      "         7          92.4790            8.55s\n",
      "         8          90.9349            8.47s\n",
      "         9          89.4405            8.50s\n",
      "        10          88.0954            8.45s\n",
      "        20          76.4631            8.41s\n",
      "        30          67.7350            8.37s\n",
      "        40          61.8180            8.35s\n",
      "        50          58.0178            8.24s\n",
      "        60          55.2027            8.16s\n",
      "        70          53.2457            8.04s\n",
      "        80          51.7856            7.97s\n",
      "        90          50.5997            7.94s\n",
      "       100          49.8065            7.83s\n",
      "       200          43.7665            6.86s\n",
      "       300          40.2002            6.09s\n",
      "       400          37.3918            5.34s\n",
      "       500          35.2162            4.67s\n",
      "       600          33.5980            3.97s\n",
      "       700          32.3176            3.28s\n",
      "       800          31.3784            2.60s\n",
      "       900          30.1548            1.95s\n",
      "      1000          29.1841            1.29s\n",
      "GradientBoostingRegressor(learning_rate=0.018, loss='huber', max_depth=4,\n",
      "                          n_estimators=1200, random_state=0, verbose=1,\n",
      "                          warm_start=True)\n",
      "0.6870773792117117\n",
      " test_score: 0.617727437876854\n"
     ]
    }
   ],
   "source": [
    "regr_3 = GradientBoostingRegressor(random_state=0, max_depth=4, n_estimators=1200, \n",
    "                                   learning_rate=0.018, loss='huber', warm_start=True, verbose=1)\n",
    "\n",
    "regressors = [regr_3]\n",
    "for regressor in regressors:\n",
    "    pipe = Pipeline([('scaler', StandardScaler()), ('regr', regressor)])\n",
    "    pipe.fit(X_train, y_train)\n",
    "\n",
    "    print(regressor)\n",
    "    print(pipe.score(X_train, y_train))\n",
    "    print(f' test_score: {pipe.score(X_test, y_test)}')\n",
    "  "
   ]
  },
  {
   "cell_type": "code",
   "execution_count": 33,
   "id": "054c9f8d",
   "metadata": {
    "execution": {
     "iopub.execute_input": "2022-12-12T13:03:29.273383Z",
     "iopub.status.busy": "2022-12-12T13:03:29.272893Z",
     "iopub.status.idle": "2022-12-12T13:03:29.291312Z",
     "shell.execute_reply": "2022-12-12T13:03:29.290082Z"
    },
    "papermill": {
     "duration": 0.042427,
     "end_time": "2022-12-12T13:03:29.294055",
     "exception": false,
     "start_time": "2022-12-12T13:03:29.251628",
     "status": "completed"
    },
    "tags": []
   },
   "outputs": [
    {
     "data": {
      "text/plain": [
       "count    105.000000\n",
       "mean       1.116978\n",
       "std        8.181684\n",
       "min      -19.750954\n",
       "25%       -4.098607\n",
       "50%        0.852223\n",
       "75%        6.851564\n",
       "max       26.049664\n",
       "Name: Age, dtype: float64"
      ]
     },
     "execution_count": 33,
     "metadata": {},
     "output_type": "execute_result"
    }
   ],
   "source": [
    "pd.Series(pipe.predict(X_test)-y_test).describe()\n"
   ]
  },
  {
   "cell_type": "code",
   "execution_count": 34,
   "id": "be86f8e7",
   "metadata": {
    "execution": {
     "iopub.execute_input": "2022-12-12T13:03:29.336890Z",
     "iopub.status.busy": "2022-12-12T13:03:29.336369Z",
     "iopub.status.idle": "2022-12-12T13:03:29.353998Z",
     "shell.execute_reply": "2022-12-12T13:03:29.351811Z"
    },
    "papermill": {
     "duration": 0.044039,
     "end_time": "2022-12-12T13:03:29.357754",
     "exception": false,
     "start_time": "2022-12-12T13:03:29.313715",
     "status": "completed"
    },
    "tags": []
   },
   "outputs": [
    {
     "name": "stdout",
     "output_type": "stream",
     "text": [
      "<class 'pandas.core.frame.DataFrame'>\n",
      "RangeIndex: 1309 entries, 0 to 1308\n",
      "Data columns (total 11 columns):\n",
      " #   Column      Non-Null Count  Dtype  \n",
      "---  ------      --------------  -----  \n",
      " 0   Survived    891 non-null    float64\n",
      " 1   Pclass      1309 non-null   int64  \n",
      " 2   Name        1309 non-null   object \n",
      " 3   Sex         1309 non-null   int64  \n",
      " 4   Age         1046 non-null   float64\n",
      " 5   SibSp       1309 non-null   int64  \n",
      " 6   Parch       1309 non-null   int64  \n",
      " 7   Fare        1309 non-null   float64\n",
      " 8   Embarked    1309 non-null   int64  \n",
      " 9   Fare_class  1309 non-null   int64  \n",
      " 10  Title       1309 non-null   int64  \n",
      "dtypes: float64(3), int64(7), object(1)\n",
      "memory usage: 112.6+ KB\n"
     ]
    }
   ],
   "source": [
    "full_df_enc.info()"
   ]
  },
  {
   "cell_type": "code",
   "execution_count": 35,
   "id": "97b61749",
   "metadata": {
    "execution": {
     "iopub.execute_input": "2022-12-12T13:03:29.401007Z",
     "iopub.status.busy": "2022-12-12T13:03:29.400542Z",
     "iopub.status.idle": "2022-12-12T13:03:29.417334Z",
     "shell.execute_reply": "2022-12-12T13:03:29.416112Z"
    },
    "papermill": {
     "duration": 0.041556,
     "end_time": "2022-12-12T13:03:29.420361",
     "exception": false,
     "start_time": "2022-12-12T13:03:29.378805",
     "status": "completed"
    },
    "tags": []
   },
   "outputs": [],
   "source": [
    "predicted_age = pipe.predict(full_df_enc[full_df_enc['Age'].isna()].drop(['Name', 'Survived', 'Age'], axis=1))\n"
   ]
  },
  {
   "cell_type": "code",
   "execution_count": 36,
   "id": "6f38d8d0",
   "metadata": {
    "execution": {
     "iopub.execute_input": "2022-12-12T13:03:29.463496Z",
     "iopub.status.busy": "2022-12-12T13:03:29.462563Z",
     "iopub.status.idle": "2022-12-12T13:03:29.469956Z",
     "shell.execute_reply": "2022-12-12T13:03:29.468576Z"
    },
    "papermill": {
     "duration": 0.031711,
     "end_time": "2022-12-12T13:03:29.472331",
     "exception": false,
     "start_time": "2022-12-12T13:03:29.440620",
     "status": "completed"
    },
    "tags": []
   },
   "outputs": [],
   "source": [
    "full_df_enc.loc[full_df_enc['Age'].isna(), 'Age'] = np.round(predicted_age, 1)\n"
   ]
  },
  {
   "cell_type": "code",
   "execution_count": 37,
   "id": "edc45526",
   "metadata": {
    "execution": {
     "iopub.execute_input": "2022-12-12T13:03:29.514807Z",
     "iopub.status.busy": "2022-12-12T13:03:29.514404Z",
     "iopub.status.idle": "2022-12-12T13:03:29.733340Z",
     "shell.execute_reply": "2022-12-12T13:03:29.732018Z"
    },
    "papermill": {
     "duration": 0.243823,
     "end_time": "2022-12-12T13:03:29.736262",
     "exception": false,
     "start_time": "2022-12-12T13:03:29.492439",
     "status": "completed"
    },
    "tags": []
   },
   "outputs": [
    {
     "data": {
      "text/plain": [
       "<AxesSubplot:>"
      ]
     },
     "execution_count": 37,
     "metadata": {},
     "output_type": "execute_result"
    },
    {
     "data": {
      "image/png": "[encoded data removed]",
      "text/plain": [
       "<Figure size 432x288 with 1 Axes>"
      ]
     },
     "metadata": {
      "needs_background": "light"
     },
     "output_type": "display_data"
    }
   ],
   "source": [
    "full_df_enc.Age.hist()\n"
   ]
  },
  {
   "cell_type": "code",
   "execution_count": 38,
   "id": "07703955",
   "metadata": {
    "execution": {
     "iopub.execute_input": "2022-12-12T13:03:29.777707Z",
     "iopub.status.busy": "2022-12-12T13:03:29.777179Z",
     "iopub.status.idle": "2022-12-12T13:03:29.974331Z",
     "shell.execute_reply": "2022-12-12T13:03:29.973466Z"
    },
    "papermill": {
     "duration": 0.22111,
     "end_time": "2022-12-12T13:03:29.977115",
     "exception": false,
     "start_time": "2022-12-12T13:03:29.756005",
     "status": "completed"
    },
    "tags": []
   },
   "outputs": [
    {
     "data": {
      "text/plain": [
       "<AxesSubplot:>"
      ]
     },
     "execution_count": 38,
     "metadata": {},
     "output_type": "execute_result"
    },
    {
     "data": {
      "image/png": "[encoded data removed]",
      "text/plain": [
       "<Figure size 432x288 with 1 Axes>"
      ]
     },
     "metadata": {
      "needs_background": "light"
     },
     "output_type": "display_data"
    }
   ],
   "source": [
    "full_df.Age.hist()\n"
   ]
  },
  {
   "cell_type": "code",
   "execution_count": 39,
   "id": "c0a6c423",
   "metadata": {
    "execution": {
     "iopub.execute_input": "2022-12-12T13:03:30.022047Z",
     "iopub.status.busy": "2022-12-12T13:03:30.021626Z",
     "iopub.status.idle": "2022-12-12T13:03:30.034380Z",
     "shell.execute_reply": "2022-12-12T13:03:30.033236Z"
    },
    "papermill": {
     "duration": 0.038434,
     "end_time": "2022-12-12T13:03:30.037096",
     "exception": false,
     "start_time": "2022-12-12T13:03:29.998662",
     "status": "completed"
    },
    "tags": []
   },
   "outputs": [],
   "source": [
    "X_sur = full_df_enc.loc[full_df_enc.Survived.notna()].drop(['Survived', 'Name'], axis=1)  \n",
    "y_sur = np.array(full_df_enc.loc[full_df_enc.Survived.notna()]['Survived'].astype(int))\n",
    "X_train_sur, X_test_sur, y_train_sur, y_test_sur = train_test_split(X_sur, y_sur, test_size=0.4, random_state = 0, stratify=X_sur['Title'])\n"
   ]
  },
  {
   "cell_type": "code",
   "execution_count": 40,
   "id": "f743c49e",
   "metadata": {
    "execution": {
     "iopub.execute_input": "2022-12-12T13:03:30.082325Z",
     "iopub.status.busy": "2022-12-12T13:03:30.081914Z",
     "iopub.status.idle": "2022-12-12T13:03:30.098914Z",
     "shell.execute_reply": "2022-12-12T13:03:30.097595Z"
    },
    "papermill": {
     "duration": 0.043737,
     "end_time": "2022-12-12T13:03:30.102030",
     "exception": false,
     "start_time": "2022-12-12T13:03:30.058293",
     "status": "completed"
    },
    "tags": []
   },
   "outputs": [],
   "source": [
    "from sklearn.dummy import DummyClassifier\n",
    "from sklearn.linear_model import LogisticRegression, LogisticRegressionCV, PassiveAggressiveClassifier\n",
    "from sklearn.metrics import confusion_matrix\n",
    "from sklearn.gaussian_process import GaussianProcessClassifier\n",
    "from sklearn.ensemble import AdaBoostClassifier, BaggingClassifier, ExtraTreesClassifier, GradientBoostingClassifier, IsolationForest, RandomForestClassifier, RandomTreesEmbedding, StackingClassifier\n",
    "from sklearn.ensemble import VotingClassifier\n",
    "# from hpbandster_sklearn import HpBandSterSearchCV\n"
   ]
  },
  {
   "cell_type": "code",
   "execution_count": 41,
   "id": "63383ec7",
   "metadata": {
    "execution": {
     "iopub.execute_input": "2022-12-12T13:03:30.146453Z",
     "iopub.status.busy": "2022-12-12T13:03:30.145972Z",
     "iopub.status.idle": "2022-12-12T13:03:30.153772Z",
     "shell.execute_reply": "2022-12-12T13:03:30.152441Z"
    },
    "papermill": {
     "duration": 0.033665,
     "end_time": "2022-12-12T13:03:30.156754",
     "exception": false,
     "start_time": "2022-12-12T13:03:30.123089",
     "status": "completed"
    },
    "tags": []
   },
   "outputs": [],
   "source": [
    "classifier_10 = GradientBoostingClassifier(random_state=0, criterion='friedman_mse',\n",
    "                                           learning_rate=0.18,\n",
    "                                           loss='exponential',\n",
    "                                           max_depth=5,\n",
    "                                           max_leaf_nodes=30,\n",
    "                                           min_samples_leaf=3,\n",
    "                                           min_samples_split=20,\n",
    "                                           subsample=0.9736842105263157,\n",
    "                                           n_estimators=22)\n"
   ]
  },
  {
   "cell_type": "code",
   "execution_count": 42,
   "id": "c19d7cb7",
   "metadata": {
    "execution": {
     "iopub.execute_input": "2022-12-12T13:03:30.200229Z",
     "iopub.status.busy": "2022-12-12T13:03:30.199120Z",
     "iopub.status.idle": "2022-12-12T13:03:30.253613Z",
     "shell.execute_reply": "2022-12-12T13:03:30.252330Z"
    },
    "papermill": {
     "duration": 0.078876,
     "end_time": "2022-12-12T13:03:30.256031",
     "exception": false,
     "start_time": "2022-12-12T13:03:30.177155",
     "status": "completed"
    },
    "tags": []
   },
   "outputs": [
    {
     "name": "stdout",
     "output_type": "stream",
     "text": [
      "GradientBoostingClassifier(learning_rate=0.18, loss='exponential', max_depth=5,\n",
      "                           max_leaf_nodes=30, min_samples_leaf=3,\n",
      "                           min_samples_split=20, n_estimators=22,\n",
      "                           random_state=0, subsample=0.9736842105263157)\n",
      "train score: 0.9044943820224719\n",
      "test score: 0.8739495798319328\n"
     ]
    }
   ],
   "source": [
    "classifiers = [classifier_10]\n",
    "for classifier in classifiers:\n",
    "    classifier.fit(X_train_sur, y_train_sur)\n",
    "    print(classifier)\n",
    "    print(f'train score: {classifier.score(X_train_sur, y_train_sur)}')\n",
    "    print(f'test score: {classifier.score(X_test_sur, y_test_sur)}')\n"
   ]
  },
  {
   "cell_type": "code",
   "execution_count": 43,
   "id": "e7480f09",
   "metadata": {
    "execution": {
     "iopub.execute_input": "2022-12-12T13:03:30.299624Z",
     "iopub.status.busy": "2022-12-12T13:03:30.299168Z",
     "iopub.status.idle": "2022-12-12T13:03:30.312803Z",
     "shell.execute_reply": "2022-12-12T13:03:30.311445Z"
    },
    "papermill": {
     "duration": 0.039025,
     "end_time": "2022-12-12T13:03:30.315331",
     "exception": false,
     "start_time": "2022-12-12T13:03:30.276306",
     "status": "completed"
    },
    "tags": []
   },
   "outputs": [
    {
     "data": {
      "text/plain": [
       "array([[221,  17],\n",
       "       [ 28,  91]])"
      ]
     },
     "execution_count": 43,
     "metadata": {},
     "output_type": "execute_result"
    }
   ],
   "source": [
    "confusion_matrix(y_test_sur, classifier_10.predict(X_test_sur))\n"
   ]
  },
  {
   "cell_type": "code",
   "execution_count": 44,
   "id": "5ae1f908",
   "metadata": {
    "execution": {
     "iopub.execute_input": "2022-12-12T13:03:30.357818Z",
     "iopub.status.busy": "2022-12-12T13:03:30.357293Z",
     "iopub.status.idle": "2022-12-12T13:03:30.369275Z",
     "shell.execute_reply": "2022-12-12T13:03:30.367928Z"
    },
    "papermill": {
     "duration": 0.036352,
     "end_time": "2022-12-12T13:03:30.372035",
     "exception": false,
     "start_time": "2022-12-12T13:03:30.335683",
     "status": "completed"
    },
    "tags": []
   },
   "outputs": [],
   "source": [
    "predicted_survived = classifier_10.predict(full_df_enc.loc[full_df_enc.Survived.isna()].drop(['Name', 'Survived'], axis=1))\n"
   ]
  },
  {
   "cell_type": "code",
   "execution_count": 45,
   "id": "c4a5a492",
   "metadata": {
    "execution": {
     "iopub.execute_input": "2022-12-12T13:03:30.415351Z",
     "iopub.status.busy": "2022-12-12T13:03:30.414863Z",
     "iopub.status.idle": "2022-12-12T13:03:30.424010Z",
     "shell.execute_reply": "2022-12-12T13:03:30.422886Z"
    },
    "papermill": {
     "duration": 0.033771,
     "end_time": "2022-12-12T13:03:30.426482",
     "exception": false,
     "start_time": "2022-12-12T13:03:30.392711",
     "status": "completed"
    },
    "tags": []
   },
   "outputs": [
    {
     "data": {
      "text/plain": [
       "array([0, 1, 0, 0, 0, 0, 0, 0, 1, 0, 0, 0, 1, 0, 1, 1, 0, 0, 0, 1, 1, 0,\n",
       "       1, 1, 1, 0, 1, 0, 1, 0, 0, 0, 0, 0, 0, 0, 0, 0, 0, 0, 0, 0, 0, 1,\n",
       "       1, 0, 0, 0, 1, 1, 1, 0, 1, 1, 1, 0, 0, 0, 0, 1, 0, 0, 0, 1, 0, 1,\n",
       "       1, 0, 0, 1, 1, 0, 0, 1, 1, 1, 0, 1, 0, 1, 1, 0, 0, 0, 0, 0, 1, 0,\n",
       "       1, 1, 0, 0, 1, 0, 1, 0, 1, 0, 0, 0, 1, 0, 0, 0, 1, 0, 0, 0, 0, 0,\n",
       "       0, 1, 1, 1, 1, 0, 0, 1, 1, 1, 1, 0, 1, 0, 0, 0, 0, 1, 0, 0, 0, 1,\n",
       "       0, 0, 0, 0, 0, 0, 0, 0, 0, 1, 1, 0, 1, 0, 0, 0, 0, 0, 1, 0, 0, 1,\n",
       "       0, 0, 1, 0, 1, 0, 1, 1, 1, 0, 0, 0, 0, 0, 1, 0, 0, 0, 0, 0, 0, 1,\n",
       "       1, 1, 1, 1, 0, 0, 1, 0, 1, 0, 1, 0, 0, 0, 0, 0, 0, 0, 1, 0, 1, 0,\n",
       "       0, 0, 1, 1, 1, 1, 0, 0, 1, 0, 1, 0, 0, 0, 0, 1, 0, 0, 1, 0, 1, 0,\n",
       "       1, 0, 1, 0, 1, 1, 0, 1, 0, 0, 0, 1, 0, 0, 0, 0, 0, 0, 1, 1, 1, 1,\n",
       "       1, 0, 1, 0, 1, 0, 1, 1, 1, 0, 1, 0, 0, 0, 0, 0, 1, 0, 0, 0, 1, 1,\n",
       "       0, 0, 0, 0, 0, 0, 0, 0, 1, 1, 0, 1, 0, 0, 0, 0, 0, 1, 1, 1, 1, 0,\n",
       "       0, 0, 0, 0, 0, 0, 0, 0, 0, 0, 1, 0, 0, 0, 0, 0, 0, 0, 1, 1, 0, 1,\n",
       "       0, 0, 0, 0, 0, 1, 1, 1, 0, 0, 0, 0, 0, 0, 0, 1, 1, 0, 1, 0, 0, 0,\n",
       "       1, 0, 0, 1, 0, 0, 0, 0, 0, 0, 0, 0, 0, 1, 1, 1, 0, 1, 0, 1, 1, 0,\n",
       "       0, 0, 1, 0, 1, 0, 0, 1, 0, 1, 1, 0, 1, 0, 0, 0, 1, 0, 0, 1, 0, 0,\n",
       "       1, 1, 0, 0, 0, 0, 0, 0, 1, 0, 0, 1, 0, 0, 0, 0, 0, 1, 0, 0, 0, 1,\n",
       "       0, 1, 0, 0, 1, 0, 1, 0, 0, 0, 0, 0, 1, 1, 1, 1, 0, 0, 1, 0, 0, 1])"
      ]
     },
     "execution_count": 45,
     "metadata": {},
     "output_type": "execute_result"
    }
   ],
   "source": [
    "predicted_survived\n"
   ]
  },
  {
   "cell_type": "code",
   "execution_count": 46,
   "id": "5a34d344",
   "metadata": {
    "execution": {
     "iopub.execute_input": "2022-12-12T13:03:30.472388Z",
     "iopub.status.busy": "2022-12-12T13:03:30.471562Z",
     "iopub.status.idle": "2022-12-12T13:03:30.478902Z",
     "shell.execute_reply": "2022-12-12T13:03:30.477875Z"
    },
    "papermill": {
     "duration": 0.033099,
     "end_time": "2022-12-12T13:03:30.481486",
     "exception": false,
     "start_time": "2022-12-12T13:03:30.448387",
     "status": "completed"
    },
    "tags": []
   },
   "outputs": [],
   "source": [
    "test_df['Survived'] = predicted_survived.astype(int)\n"
   ]
  },
  {
   "cell_type": "code",
   "execution_count": 47,
   "id": "fa9d5ff5",
   "metadata": {
    "execution": {
     "iopub.execute_input": "2022-12-12T13:03:30.528181Z",
     "iopub.status.busy": "2022-12-12T13:03:30.526659Z",
     "iopub.status.idle": "2022-12-12T13:03:30.534965Z",
     "shell.execute_reply": "2022-12-12T13:03:30.533735Z"
    },
    "papermill": {
     "duration": 0.033601,
     "end_time": "2022-12-12T13:03:30.537205",
     "exception": false,
     "start_time": "2022-12-12T13:03:30.503604",
     "status": "completed"
    },
    "tags": []
   },
   "outputs": [],
   "source": [
    "submission = pd.DataFrame(index=[test_df.PassengerId, test_df.Survived])\n",
    "\n"
   ]
  },
  {
   "cell_type": "code",
   "execution_count": 48,
   "id": "70ef6d53",
   "metadata": {
    "execution": {
     "iopub.execute_input": "2022-12-12T13:03:30.581904Z",
     "iopub.status.busy": "2022-12-12T13:03:30.581179Z",
     "iopub.status.idle": "2022-12-12T13:03:30.591592Z",
     "shell.execute_reply": "2022-12-12T13:03:30.590398Z"
    },
    "papermill": {
     "duration": 0.036244,
     "end_time": "2022-12-12T13:03:30.594321",
     "exception": false,
     "start_time": "2022-12-12T13:03:30.558077",
     "status": "completed"
    },
    "tags": []
   },
   "outputs": [],
   "source": [
    "submission.to_csv('submission.csv')\n"
   ]
  }
 ],
 "metadata": {
  "kernelspec": {
   "display_name": "Python 3",
   "language": "python",
   "name": "python3"
  },
  "language_info": {
   "codemirror_mode": {
    "name": "ipython",
    "version": 3
   },
   "file_extension": ".py",
   "mimetype": "text/x-python",
   "name": "python",
   "nbconvert_exporter": "python",
   "pygments_lexer": "ipython3",
   "version": "3.7.12"
  },
  "papermill": {
   "default_parameters": {},
   "duration": 27.577971,
   "end_time": "2022-12-12T13:03:31.540342",
   "environment_variables": {},
   "exception": null,
   "input_path": "__notebook__.ipynb",
   "output_path": "__notebook__.ipynb",
   "parameters": {},
   "start_time": "2022-12-12T13:03:03.962371",
   "version": "2.3.4"
  }
 },
 "nbformat": 4,
 "nbformat_minor": 5
}
